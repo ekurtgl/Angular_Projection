{
 "cells": [
  {
   "cell_type": "code",
   "execution_count": 3,
   "metadata": {},
   "outputs": [
    {
     "name": "stdout",
     "output_type": "stream",
     "text": [
      "Num GPUs Available:  1\n"
     ]
    }
   ],
   "source": [
    "# %matplotlib inline\n",
    "import matplotlib.pyplot as plt\n",
    "import matplotlib.image as mpimg\n",
    "import tensorflow as tf\n",
    "import os\n",
    "# Create a MirroredStrateg, If Multi-GPU available\n",
    "os.environ['TF_FORCE_GPU_ALLOW_GROWTH'] = 'true' \n",
    "tf.config.set_soft_device_placement(True)\n",
    "# strategy = tf.distribute.MirroredStrategy(devices=['/gpu:1','/gpu:2']) \n",
    "# print('Number of GPUs being used: {}'.format(strategy.num_replicas_in_sync))\n",
    "from tensorflow.keras.preprocessing.image import ImageDataGenerator\n",
    "from tensorflow.keras.models import Sequential, Model, model_from_json\n",
    "from tensorflow.keras.optimizers import *\n",
    "from tensorflow.keras.layers import *\n",
    "from tensorflow.keras import regularizers\n",
    "from tensorflow.keras.callbacks import CSVLogger\n",
    "from tensorflow.keras.wrappers.scikit_learn import KerasClassifier\n",
    "from tensorflow.keras.applications import VGG16, ResNet50\n",
    "from tensorflow.keras.utils import to_categorical\n",
    "from sklearn.model_selection import train_test_split\n",
    "from sklearn.preprocessing import StandardScaler\n",
    "# from livelossplot.keras import PlotLossesCallback\n",
    "from livelossplot import PlotLossesKerasTF\n",
    "from tensorflow.keras.callbacks import ReduceLROnPlateau\n",
    "from tqdm import tqdm\n",
    "import efficientnet.keras as efn\n",
    "import h5py, glob, re, cv2, math, matplotlib, pickle, gc\n",
    "import tensorflow.keras as keras\n",
    "import pandas as pd\n",
    "from pandas import read_csv\n",
    "import numpy as np\n",
    "from scipy import stats\n",
    "import itertools, random\n",
    "from collections import Counter\n",
    "# from cnn_utils import *\n",
    "# from tensorflow.compat.v1 import ConfigProto\n",
    "# from tensorflow.compat.v1 import InteractiveSession\n",
    "from sklearn.metrics import classification_report, confusion_matrix\n",
    "from sklearn.utils import class_weight\n",
    "from PIL import Image  \n",
    "import pdb\n",
    "from statistics import mode \n",
    "from IPython.display import clear_output\n",
    "\n",
    "# config = ConfigProto()\n",
    "# config.gpu_options.allow_growth = True\n",
    "# session = InteractiveSession(config=config)\n",
    "\n",
    "np.random.seed(1)\n",
    "# Setting the seed for python random numbers\n",
    "random.seed(1254)\n",
    "# Setting the graph-level random seed.\n",
    "tf.random.set_seed(89)\n",
    "\n",
    "os.environ[\"CUDA_DEVICE_ORDER\"] = \"PCI_BUS_ID\"\n",
    "os.environ[\"CUDA_VISIBLE_DEVICES\"] = \"2\"\n",
    "!CUDA_VISIBLE_DEVICES=2\n",
    "\n",
    "# strategy = tf.distribute.MirroredStrategy(devices=['/gpu:1','/gpu:2'])\n",
    "# print('Number of GPUs being used: {}'.format(strategy.num_replicas_in_sync))\n",
    "# print('Number of GPUs being used: {}'.format(strategy.num_replicas_in_sync))\n",
    "# def setup_multi_node_training(): # IMPORTANT: SET UP TF_CONFIG FOR MULTINODE TRAINING HERE os.environ[“TF_FORCE_GPU_ALLOW_GROWTH”] = “true” tf.config.set_soft_device_placement(True) mirrored_strategy = tf.distribute.experimental.MultiWorkerMirroredStrategy(tf.distribute.experimental.CollectiveCommunication.NCCL) # Constructs the configuration run_config = tf.estimator.RunConfig( train_distribute=mirrored_strategy, ) return run_config\n",
    "print(\"Num GPUs Available: \", len(tf.config.experimental.list_physical_devices('GPU')))"
   ]
  },
  {
   "cell_type": "code",
   "execution_count": 4,
   "metadata": {},
   "outputs": [
    {
     "name": "stdout",
     "output_type": "stream",
     "text": [
      "num_class: 9\n",
      "num_target: 3\n"
     ]
    }
   ],
   "source": [
    "num_class = 9\n",
    "max_num_target = 3\n",
    "print('num_class:', num_class)\n",
    "print('num_target:', max_num_target)"
   ]
  },
  {
   "cell_type": "markdown",
   "metadata": {},
   "source": [
    "## Data loading functions "
   ]
  },
  {
   "cell_type": "code",
   "execution_count": 5,
   "metadata": {},
   "outputs": [],
   "source": [
    "def load_pkl(filename):\n",
    "    with open(filename, 'rb') as input:\n",
    "        data = pickle.load(input)\n",
    "    return data"
   ]
  },
  {
   "cell_type": "code",
   "execution_count": 6,
   "metadata": {},
   "outputs": [],
   "source": [
    "def load_hdf5(filename):\n",
    "    return h5py.File(filename, \"r\")"
   ]
  },
  {
   "cell_type": "markdown",
   "metadata": {},
   "source": [
    "## Callbacks"
   ]
  },
  {
   "cell_type": "code",
   "execution_count": 7,
   "metadata": {},
   "outputs": [],
   "source": [
    "early_stopping = keras.callbacks.EarlyStopping(\n",
    "    monitor=\"val_accuracy\", patience=20, restore_best_weights=True\n",
    ")"
   ]
  },
  {
   "cell_type": "code",
   "execution_count": 8,
   "metadata": {},
   "outputs": [],
   "source": [
    "def checkpoint_filepath(filename):\n",
    "    checkpoint_callback = tf.keras.callbacks.ModelCheckpoint(\n",
    "        filepath = filename,\n",
    "        save_weights_only = False,\n",
    "        monitor = 'val_accuracy',\n",
    "        mode = 'max',\n",
    "        save_best_only = True)\n",
    "    return checkpoint_callback"
   ]
  },
  {
   "cell_type": "markdown",
   "metadata": {},
   "source": [
    "## Data generators"
   ]
  },
  {
   "cell_type": "code",
   "execution_count": 9,
   "metadata": {},
   "outputs": [],
   "source": [
    "def data_generator(data, labels, batch_size=1):              \n",
    "    \"\"\"\n",
    "    Yields the next training batch.\n",
    "    data is an array  [[[frame1_filename,frame2_filename,…frame16_filename],label1], [[frame1_filename,frame2_filename,…frame16_filename],label2],……….].\n",
    "    \"\"\"\n",
    "    num_samples = data.shape[0]\n",
    "    \n",
    "    while True:   \n",
    "        for offset in range(0, num_samples, batch_size):\n",
    "    #             print ('starting index: ', offset) \n",
    "            # Get the samples you'll use in this batch\n",
    "            batch_samples = data[offset:offset+batch_size]\n",
    "            label = labels[offset:offset+batch_size]\n",
    "            # Initialise X_train and y_train arrays for this batch\n",
    "            X_train = []\n",
    "            y_train = []\n",
    "            # For each example\n",
    "            for i in range(0,batch_samples.shape[0]):\n",
    "                X_train.append(batch_samples[i])\n",
    "                y_train.append(label[i])\n",
    "\n",
    "            # Make sure they're numpy arrays (as opposed to lists)\n",
    "            X_train = np.array(X_train)\n",
    "            #X_train = np.rollaxis(X_train,1,4)\n",
    "            y_train = np.array(y_train)\n",
    "\n",
    "            # yield the next training batch            \n",
    "            yield X_train, y_train"
   ]
  },
  {
   "cell_type": "code",
   "execution_count": 10,
   "metadata": {},
   "outputs": [],
   "source": [
    "def data_generator_pred(data, labels, batch_size=1):              \n",
    "    \"\"\"\n",
    "    Yields the next training batch.\n",
    "    data is an array  [[[frame1_filename,frame2_filename,…frame16_filename],label1], [[frame1_filename,frame2_filename,…frame16_filename],label2],……….].\n",
    "    \"\"\"\n",
    "    num_samples = data.shape[0]\n",
    "    \n",
    "    while True:   \n",
    "        for offset in range(0, num_samples, batch_size):\n",
    "    #             print ('starting index: ', offset) \n",
    "            # Get the samples you'll use in this batch\n",
    "            batch_samples = data[offset:offset+batch_size]\n",
    "            label = labels[offset:offset+batch_size]\n",
    "            # Initialise X_train and y_train arrays for this batch\n",
    "            X_train = []\n",
    "            y_train = []\n",
    "            # For each example\n",
    "            for i in range(0,batch_samples.shape[0]):\n",
    "                X_train.append(batch_samples[i])\n",
    "                y_train.append(label[i])\n",
    "\n",
    "            # Make sure they're numpy arrays (as opposed to lists)\n",
    "            X_train = np.array(X_train)\n",
    "            #X_train = np.rollaxis(X_train,1,4)\n",
    "            y_train = np.array(y_train)\n",
    "\n",
    "            # yield the next training batch            \n",
    "            yield X_train"
   ]
  },
  {
   "cell_type": "markdown",
   "metadata": {},
   "source": [
    "## Single act network"
   ]
  },
  {
   "cell_type": "code",
   "execution_count": 11,
   "metadata": {},
   "outputs": [],
   "source": [
    "def nn_singleact(input_shapex):\n",
    "    inputlayer1 = Input(shape = input_shapex)\n",
    "    x = Conv2D(32, kernel_size=(3, 3), padding='same', activation='relu')(inputlayer1)\n",
    "    x = MaxPooling2D(pool_size=(2,2))(x)\n",
    "    x = Conv2D(64, kernel_size=(3, 3), padding='same', activation='relu')(x)\n",
    "    x = MaxPooling2D(pool_size=(2,2))(x)\n",
    "    x = Conv2D(128, kernel_size=(3, 3), padding='same', activation='relu')(x)\n",
    "    x = MaxPooling2D(pool_size=(2,2))(x)\n",
    "    x = Conv2D(128, kernel_size=(3, 3), padding='same', activation='relu')(x)\n",
    "    x = MaxPooling2D(pool_size=(2,2))(x)\n",
    "    x = Flatten()(x)\n",
    "    x = Dense(120, activation='relu')(x)\n",
    "    x = Dense(240, activation='relu')(x)\n",
    "    x = Reshape(target_shape = (max_num_target, 240//max_num_target))(x)\n",
    "#     x = Dropout(0.5)(x)\n",
    "    out1 = TimeDistributed(Dense(num_class,activation='sigmoid'))(x)\n",
    "#     x = Bidirectional(LSTM(64, dropout=0.5, return_sequences=True))(x)\n",
    "#     out1 = Dense(num_class,activation='softmax')(x)\n",
    "#         out1 = TimeDistributed(Dense(num_class,activation='softmax'))(x, mask=maskinput)\n",
    "#         model = keras.Model(inputs = [inputlayer1,maskinput], outputs = [out1])#, out2, out3])\n",
    "    model = keras.Model(inputs = [inputlayer1], outputs = [out1])#, out2, out3])\n",
    "    opt = Adam(lr=1e-3, decay=1e-3 / 200)\n",
    "    model.compile(loss = 'binary_crossentropy', optimizer=opt, metrics = ['accuracy'])\n",
    "    return model "
   ]
  },
  {
   "cell_type": "code",
   "execution_count": 12,
   "metadata": {},
   "outputs": [],
   "source": [
    "# def cnn(input_shapex):\n",
    "#     inputlayer1 = Input(shape = input_shapex)\n",
    "#     x = Conv2D(32, kernel_size=(3, 3), padding='same', activation='relu')(inputlayer1)\n",
    "#     x = MaxPooling2D(pool_size=(2,2))(x)\n",
    "#     x = Conv2D(64, kernel_size=(3, 3), padding='same', activation='relu')(x)\n",
    "#     x = MaxPooling2D(pool_size=(2,2))(x)\n",
    "#     x = Conv2D(128, kernel_size=(3, 3), padding='same', activation='relu')(x)\n",
    "#     x = MaxPooling2D(pool_size=(2,2))(x)\n",
    "#     x = Conv2D(128, kernel_size=(3, 3), padding='same', activation='relu')(x)\n",
    "#     x = MaxPooling2D(pool_size=(2,2))(x)\n",
    "    \n",
    "#     return x "
   ]
  },
  {
   "cell_type": "code",
   "execution_count": 13,
   "metadata": {},
   "outputs": [],
   "source": [
    "# def tpn(base_layers, max_num_target):\n",
    "#     x = Conv2D(256, kernel_size=(3, 3), padding='same', activation='relu')(base_layers)\n",
    "    \n",
    "#     # classification layers to predict if there is target or not\n",
    "#     x_class = Conv2D(max_num_target, kernel_size=(1, 1), activation='sigmoid')(x)\n",
    "    \n",
    "#     return [x_class, base_layers]"
   ]
  },
  {
   "cell_type": "code",
   "execution_count": 14,
   "metadata": {},
   "outputs": [
    {
     "name": "stdout",
     "output_type": "stream",
     "text": [
      "Data shapes:\n",
      "(321, 128, 128, 3)\n",
      "(321, 3, 9)\n",
      "(155, 128, 128, 3)\n",
      "(155, 3, 9)\n"
     ]
    }
   ],
   "source": [
    "# data\n",
    "\n",
    "x = load_hdf5('datasets/single_act.hdf5')\n",
    "x_train, x_test, y_train, y_test = [x['train_img'], x['test_img'], x['train_labels'], x['test_labels']]\n",
    "\n",
    "y_temp = np.zeros((y_train.shape[0], max_num_target, num_class))\n",
    "y_temp[:, 0, :] = y_train\n",
    "y_train = y_temp\n",
    "\n",
    "y_temp = np.zeros((y_test.shape[0], max_num_target, num_class))\n",
    "y_temp[:, 0, :] = y_test\n",
    "y_test = y_temp\n",
    "\n",
    "print('Data shapes:')\n",
    "print(x_train.shape)\n",
    "print(y_train.shape)\n",
    "print(x_test.shape)\n",
    "print(y_test.shape)"
   ]
  },
  {
   "cell_type": "code",
   "execution_count": 15,
   "metadata": {},
   "outputs": [
    {
     "name": "stdout",
     "output_type": "stream",
     "text": [
      "Input shape:  (128, 128, 3)\n"
     ]
    }
   ],
   "source": [
    "input_shape = (x_train.shape[1], x_train.shape[2], x_train.shape[3])\n",
    "print('Input shape: ', input_shape)"
   ]
  },
  {
   "cell_type": "code",
   "execution_count": 18,
   "metadata": {},
   "outputs": [],
   "source": [
    "batch_size = 64\n",
    "model_name = 'models/single_act'\n",
    "checkpoint_callback = checkpoint_filepath(model_name)\n",
    "nn = nn_singleact(input_shape)\n",
    "\n",
    "train_dataset = data_generator(x_train, y_train, batch_size)\n",
    "validation_dataset = data_generator(x_test, y_test, batch_size)"
   ]
  },
  {
   "cell_type": "code",
   "execution_count": 19,
   "metadata": {},
   "outputs": [
    {
     "data": {
      "image/png": "[encoded data removed]",
      "text/plain": [
       "<Figure size 864x576 with 2 Axes>"
      ]
     },
     "metadata": {
      "needs_background": "light"
     },
     "output_type": "display_data"
    },
    {
     "name": "stdout",
     "output_type": "stream",
     "text": [
      "accuracy\n",
      "\ttraining         \t (min:    0.022, max:    0.891, cur:    0.891)\n",
      "\tvalidation       \t (min:    0.019, max:    0.865, cur:    0.865)\n",
      "Loss\n",
      "\ttraining         \t (min:    0.000, max:    0.438, cur:    0.000)\n",
      "\tvalidation       \t (min:    0.007, max:    0.197, cur:    0.014)\n",
      "\b\b\b\b\b\b\b\b\b\b\b\b\b\b\b\b\b\b\b\b\b\b\b\b\b\b\b\b\b\b\b\b\b\b\b\b\b\b\b\b\b\b\b\b\b\b\b\b\b\b\b\b\b\b\b\b\b\b\b\b\b\b\b\b\b\b\b\b\b\b\b\b\b\b\b\b\b\b\b\b\b\b\b\b\r",
      "6/6 [==============================] - 0s 80ms/step - loss: 1.0055e-08 - accuracy: 0.8910 - val_loss: 0.0141 - val_accuracy: 0.8645\n"
     ]
    }
   ],
   "source": [
    "# history = nn.fit(\n",
    "#     np.array(x_train), np.array(y_train),\n",
    "#     validation_data = [np.array(x_test), np.array(y_test)],\n",
    "#     batch_size = batch_size,\n",
    "#     epochs=200,\n",
    "#     shuffle=False,\n",
    "#     callbacks=[early_stopping, PlotLossesKerasTF(), checkpoint_callback],\n",
    "#     verbose = 1\n",
    "# )\n",
    "\n",
    "history = nn.fit(\n",
    "    train_dataset,\n",
    "    validation_data=validation_dataset,\n",
    "#     batch_size = 1,\n",
    "    epochs=1000,\n",
    "    shuffle = False,\n",
    "    steps_per_epoch = math.ceil(len(y_train) / batch_size), validation_steps = math.ceil(len(y_test) / batch_size),\n",
    "    callbacks=[PlotLossesKerasTF(), checkpoint_callback],\n",
    "    verbose = 1\n",
    ")"
   ]
  },
  {
   "cell_type": "markdown",
   "metadata": {},
   "source": [
    "## Load trained model"
   ]
  },
  {
   "cell_type": "code",
   "execution_count": 20,
   "metadata": {},
   "outputs": [],
   "source": [
    "nn2 = keras.models.load_model(model_name)\n",
    "# nn2.evaluate(validation_dataset, steps = math.ceil(len(y_test) / batch_size))"
   ]
  },
  {
   "cell_type": "code",
   "execution_count": 21,
   "metadata": {},
   "outputs": [
    {
     "name": "stderr",
     "output_type": "stream",
     "text": [
      "100%|██████████| 155/155 [00:04<00:00, 33.02it/s]\n"
     ]
    },
    {
     "data": {
      "text/plain": [
       "(155, 3, 9)"
      ]
     },
     "execution_count": 21,
     "metadata": {},
     "output_type": "execute_result"
    }
   ],
   "source": [
    "pred_dataset = data_generator_pred(x_test, y_test)\n",
    "preds = np.array([np.squeeze(nn2.predict(next(pred_dataset))) for i in tqdm(range(len(y_test)), position=0)])\n",
    "preds.shape"
   ]
  },
  {
   "cell_type": "code",
   "execution_count": 22,
   "metadata": {},
   "outputs": [
    {
     "name": "stdout",
     "output_type": "stream",
     "text": [
      "Acc: 98.71 %, correct: 153 , wrong: 2\n"
     ]
    }
   ],
   "source": [
    "# compute accuracy\n",
    "\n",
    "correct = 0\n",
    "wrong = 0\n",
    "\n",
    "for i in range(len(y_test)):\n",
    "    for j in range(len(y_test[i])):\n",
    "        if sum(y_test[i][j]) != 0 or sum(preds[i][j]) > 0.5: # if there is target\n",
    "            if np.argmax(y_test[i][j]) == np.argmax(preds[i][j]):\n",
    "                correct += 1\n",
    "            else:\n",
    "                wrong += 1\n",
    "acc = correct / (correct + wrong) * 100\n",
    "print('Acc:', round(acc,2), '%, correct:', correct, ', wrong:', wrong)"
   ]
  },
  {
   "cell_type": "markdown",
   "metadata": {},
   "source": [
    "## Test on real multi-target"
   ]
  },
  {
   "cell_type": "code",
   "execution_count": 38,
   "metadata": {},
   "outputs": [
    {
     "name": "stdout",
     "output_type": "stream",
     "text": [
      "Data shapes:\n",
      "(21, 128, 128, 3)\n",
      "(21, 3, 9)\n"
     ]
    }
   ],
   "source": [
    "# data\n",
    "\n",
    "x = load_pkl('datasets/multi_target.pkl')\n",
    "x_train_multi, x_test_multi, y_train_multi, y_test_multi = [x[0], x[1], x[2], x[3]]\n",
    "\n",
    "y_temp = np.zeros((y_train_multi.shape[0], max_num_target, num_class))\n",
    "for i in range(len(y_train_multi)):\n",
    "    y_temp[i, :len(y_train_multi[i]), :] = to_categorical(y_train_multi[i], num_class)\n",
    "y_train_multi = y_temp\n",
    "\n",
    "y_temp = np.zeros((y_test_multi.shape[0], max_num_target, num_class))\n",
    "for i in range(len(y_test_multi)):\n",
    "    y_temp[i, :len(y_test_multi[i]), :] = to_categorical(y_test_multi[i], num_class)\n",
    "y_test_multi = y_temp\n",
    "\n",
    "x_test_multi = np.concatenate([x_train_multi, x_test_multi], 0)\n",
    "y_test_multi = np.concatenate([y_train_multi, y_test_multi], 0)\n",
    "\n",
    "print('Data shapes:')\n",
    "# print(x_train_multi.shape)\n",
    "# print(y_train_multi.shape)\n",
    "print(x_test_multi.shape)\n",
    "print(y_test_multi.shape)"
   ]
  },
  {
   "cell_type": "code",
   "execution_count": 39,
   "metadata": {},
   "outputs": [
    {
     "name": "stderr",
     "output_type": "stream",
     "text": [
      "100%|██████████| 21/21 [00:00<00:00, 29.93it/s]\n"
     ]
    },
    {
     "data": {
      "text/plain": [
       "(21, 3, 9)"
      ]
     },
     "execution_count": 39,
     "metadata": {},
     "output_type": "execute_result"
    }
   ],
   "source": [
    "pred_dataset_multi = data_generator_pred(x_test_multi, y_test_multi)\n",
    "preds = np.array([np.squeeze(nn2.predict(next(pred_dataset_multi))) for i in tqdm(range(len(y_test_multi)), position=0)])\n",
    "preds.shape"
   ]
  },
  {
   "cell_type": "code",
   "execution_count": 40,
   "metadata": {},
   "outputs": [
    {
     "name": "stdout",
     "output_type": "stream",
     "text": [
      "Acc: 41.67 %, correct: 20 , wrong: 28\n"
     ]
    }
   ],
   "source": [
    "# compute accuracy\n",
    "\n",
    "correct = 0\n",
    "wrong = 0\n",
    "\n",
    "for i in range(len(y_test_multi)):\n",
    "    for j in range(len(y_test_multi[i])):\n",
    "        if sum(y_test_multi[i][j]) != 0 or sum(preds[i][j]) > 0.5: # if there is target\n",
    "            if np.argmax(y_test_multi[i][j]) == np.argmax(preds[i][j]):\n",
    "                correct += 1\n",
    "            else:\n",
    "                wrong += 1\n",
    "acc = correct / (correct + wrong) * 100\n",
    "print('Acc:', round(acc,2), '%, correct:', correct, ', wrong:', wrong)"
   ]
  },
  {
   "cell_type": "code",
   "execution_count": null,
   "metadata": {},
   "outputs": [],
   "source": []
  },
  {
   "cell_type": "code",
   "execution_count": null,
   "metadata": {},
   "outputs": [],
   "source": []
  },
  {
   "cell_type": "code",
   "execution_count": null,
   "metadata": {},
   "outputs": [],
   "source": []
  },
  {
   "cell_type": "code",
   "execution_count": null,
   "metadata": {},
   "outputs": [],
   "source": []
  },
  {
   "cell_type": "code",
   "execution_count": null,
   "metadata": {},
   "outputs": [],
   "source": []
  },
  {
   "cell_type": "code",
   "execution_count": null,
   "metadata": {},
   "outputs": [],
   "source": []
  },
  {
   "cell_type": "code",
   "execution_count": null,
   "metadata": {},
   "outputs": [],
   "source": []
  },
  {
   "cell_type": "code",
   "execution_count": null,
   "metadata": {},
   "outputs": [],
   "source": []
  },
  {
   "cell_type": "code",
   "execution_count": null,
   "metadata": {},
   "outputs": [],
   "source": []
  }
 ],
 "metadata": {
  "kernelspec": {
   "display_name": "Python 3",
   "language": "python",
   "name": "python3"
  },
  "language_info": {
   "codemirror_mode": {
    "name": "ipython",
    "version": 3
   },
   "file_extension": ".py",
   "mimetype": "text/x-python",
   "name": "python",
   "nbconvert_exporter": "python",
   "pygments_lexer": "ipython3",
   "version": "3.7.3"
  }
 },
 "nbformat": 4,
 "nbformat_minor": 2
}
