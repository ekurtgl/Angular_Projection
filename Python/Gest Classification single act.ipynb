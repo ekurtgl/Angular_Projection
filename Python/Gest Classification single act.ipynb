{
 "cells": [
  {
   "cell_type": "code",
   "execution_count": 1,
   "metadata": {},
   "outputs": [
    {
     "name": "stdout",
     "output_type": "stream",
     "text": [
      "Num GPUs Available:  1\n"
     ]
    }
   ],
   "source": [
    "# %matplotlib inline\n",
    "import matplotlib.pyplot as plt\n",
    "import matplotlib.image as mpimg\n",
    "import tensorflow as tf\n",
    "import os\n",
    "# Create a MirroredStrateg, If Multi-GPU available\n",
    "os.environ['TF_FORCE_GPU_ALLOW_GROWTH'] = 'true' \n",
    "tf.config.set_soft_device_placement(True)\n",
    "# strategy = tf.distribute.MirroredStrategy(devices=['/gpu:1','/gpu:2']) \n",
    "# print('Number of GPUs being used: {}'.format(strategy.num_replicas_in_sync))\n",
    "from tensorflow.keras.preprocessing.image import ImageDataGenerator\n",
    "from tensorflow.keras.models import Sequential, Model, model_from_json\n",
    "from tensorflow.keras.optimizers import *\n",
    "from tensorflow.keras.layers import *\n",
    "from tensorflow.keras import regularizers\n",
    "from tensorflow.keras.callbacks import CSVLogger\n",
    "from tensorflow.keras.wrappers.scikit_learn import KerasClassifier\n",
    "from tensorflow.keras.applications import VGG16, ResNet50\n",
    "from tensorflow.keras.utils import to_categorical\n",
    "from sklearn.model_selection import train_test_split\n",
    "from sklearn.preprocessing import StandardScaler\n",
    "# from livelossplot.keras import PlotLossesCallback\n",
    "from livelossplot import PlotLossesKerasTF\n",
    "from tensorflow.keras.callbacks import ReduceLROnPlateau\n",
    "from tqdm import tqdm\n",
    "# import efficientnet.keras as efn\n",
    "import h5py, glob, re, cv2, math, matplotlib, pickle, gc\n",
    "import tensorflow.keras as keras\n",
    "import pandas as pd\n",
    "from pandas import read_csv\n",
    "import numpy as np\n",
    "from scipy import stats\n",
    "import itertools, random\n",
    "from collections import Counter\n",
    "# from cnn_utils import *\n",
    "# from tensorflow.compat.v1 import ConfigProto\n",
    "# from tensorflow.compat.v1 import InteractiveSession\n",
    "from sklearn.metrics import classification_report, confusion_matrix\n",
    "from sklearn.utils import class_weight\n",
    "from PIL import Image  \n",
    "import pdb\n",
    "from statistics import mode \n",
    "from IPython.display import clear_output\n",
    "\n",
    "# config = ConfigProto()\n",
    "# config.gpu_options.allow_growth = True\n",
    "# session = InteractiveSession(config=config)\n",
    "\n",
    "np.random.seed(1)\n",
    "# Setting the seed for python random numbers\n",
    "random.seed(1254)\n",
    "# Setting the graph-level random seed.\n",
    "tf.random.set_seed(89)\n",
    "\n",
    "os.environ[\"CUDA_DEVICE_ORDER\"] = \"PCI_BUS_ID\"\n",
    "os.environ[\"CUDA_VISIBLE_DEVICES\"] = \"2\"\n",
    "!CUDA_VISIBLE_DEVICES=2\n",
    "\n",
    "# strategy = tf.distribute.MirroredStrategy(devices=['/gpu:1','/gpu:2'])\n",
    "# print('Number of GPUs being used: {}'.format(strategy.num_replicas_in_sync))\n",
    "# print('Number of GPUs being used: {}'.format(strategy.num_replicas_in_sync))\n",
    "# def setup_multi_node_training(): # IMPORTANT: SET UP TF_CONFIG FOR MULTINODE TRAINING HERE os.environ[“TF_FORCE_GPU_ALLOW_GROWTH”] = “true” tf.config.set_soft_device_placement(True) mirrored_strategy = tf.distribute.experimental.MultiWorkerMirroredStrategy(tf.distribute.experimental.CollectiveCommunication.NCCL) # Constructs the configuration run_config = tf.estimator.RunConfig( train_distribute=mirrored_strategy, ) return run_config\n",
    "print(\"Num GPUs Available: \", len(tf.config.experimental.list_physical_devices('GPU')))"
   ]
  },
  {
   "cell_type": "code",
   "execution_count": 2,
   "metadata": {},
   "outputs": [
    {
     "name": "stdout",
     "output_type": "stream",
     "text": [
      "num_class: 6\n",
      "num_target: 2\n"
     ]
    }
   ],
   "source": [
    "num_class = 6\n",
    "max_num_target = 2\n",
    "print('num_class:', num_class)\n",
    "print('num_target:', max_num_target)"
   ]
  },
  {
   "cell_type": "markdown",
   "metadata": {},
   "source": [
    "## Data loading functions "
   ]
  },
  {
   "cell_type": "code",
   "execution_count": 3,
   "metadata": {},
   "outputs": [],
   "source": [
    "def load_pkl(filename):\n",
    "    with open(filename, 'rb') as input:\n",
    "        data = pickle.load(input)\n",
    "    return data"
   ]
  },
  {
   "cell_type": "code",
   "execution_count": 4,
   "metadata": {},
   "outputs": [],
   "source": [
    "def load_hdf5(filename):\n",
    "    return h5py.File(filename, \"r\")"
   ]
  },
  {
   "cell_type": "markdown",
   "metadata": {},
   "source": [
    "## Callbacks"
   ]
  },
  {
   "cell_type": "code",
   "execution_count": 5,
   "metadata": {},
   "outputs": [],
   "source": [
    "early_stopping = keras.callbacks.EarlyStopping(\n",
    "    monitor=\"val_accuracy\", patience=20, restore_best_weights=True\n",
    ")"
   ]
  },
  {
   "cell_type": "code",
   "execution_count": 6,
   "metadata": {},
   "outputs": [],
   "source": [
    "def checkpoint_filepath(filename):\n",
    "    checkpoint_callback = tf.keras.callbacks.ModelCheckpoint(\n",
    "        filepath = filename,\n",
    "        save_weights_only = False,\n",
    "        monitor = 'val_accuracy',\n",
    "        mode = 'max',\n",
    "        save_best_only = True)\n",
    "    return checkpoint_callback"
   ]
  },
  {
   "cell_type": "markdown",
   "metadata": {},
   "source": [
    "## Data generators"
   ]
  },
  {
   "cell_type": "code",
   "execution_count": 7,
   "metadata": {},
   "outputs": [],
   "source": [
    "def data_generator(data, labels, batch_size=1):              \n",
    "    \"\"\"\n",
    "    Yields the next training batch.\n",
    "    data is an array  [[[frame1_filename,frame2_filename,…frame16_filename],label1], [[frame1_filename,frame2_filename,…frame16_filename],label2],……….].\n",
    "    \"\"\"\n",
    "    num_samples = data.shape[0]\n",
    "    \n",
    "    while True:   \n",
    "        for offset in range(0, num_samples, batch_size):\n",
    "    #             print ('starting index: ', offset) \n",
    "            # Get the samples you'll use in this batch\n",
    "            batch_samples = data[offset:offset+batch_size]\n",
    "            label = labels[offset:offset+batch_size]\n",
    "            # Initialise X_train and y_train arrays for this batch\n",
    "            X_train = []\n",
    "            y_train = []\n",
    "            # For each example\n",
    "            for i in range(0,batch_samples.shape[0]):\n",
    "                X_train.append(batch_samples[i])\n",
    "                y_train.append(label[i])\n",
    "\n",
    "            # Make sure they're numpy arrays (as opposed to lists)\n",
    "            X_train = np.array(X_train)\n",
    "            #X_train = np.rollaxis(X_train,1,4)\n",
    "            y_train = np.array(y_train)\n",
    "\n",
    "            # yield the next training batch            \n",
    "            yield X_train, y_train"
   ]
  },
  {
   "cell_type": "code",
   "execution_count": 8,
   "metadata": {},
   "outputs": [],
   "source": [
    "def data_generator_pred(data, labels, batch_size=1):              \n",
    "    \"\"\"\n",
    "    Yields the next training batch.\n",
    "    data is an array  [[[frame1_filename,frame2_filename,…frame16_filename],label1], [[frame1_filename,frame2_filename,…frame16_filename],label2],……….].\n",
    "    \"\"\"\n",
    "    num_samples = data.shape[0]\n",
    "    \n",
    "    while True:   \n",
    "        for offset in range(0, num_samples, batch_size):\n",
    "    #             print ('starting index: ', offset) \n",
    "            # Get the samples you'll use in this batch\n",
    "            batch_samples = data[offset:offset+batch_size]\n",
    "            label = labels[offset:offset+batch_size]\n",
    "            # Initialise X_train and y_train arrays for this batch\n",
    "            X_train = []\n",
    "            y_train = []\n",
    "            # For each example\n",
    "            for i in range(0,batch_samples.shape[0]):\n",
    "                X_train.append(batch_samples[i])\n",
    "                y_train.append(label[i])\n",
    "\n",
    "            # Make sure they're numpy arrays (as opposed to lists)\n",
    "            X_train = np.array(X_train)\n",
    "            #X_train = np.rollaxis(X_train,1,4)\n",
    "            y_train = np.array(y_train)\n",
    "\n",
    "            # yield the next training batch            \n",
    "            yield X_train"
   ]
  },
  {
   "cell_type": "markdown",
   "metadata": {},
   "source": [
    "## Single act network"
   ]
  },
  {
   "cell_type": "code",
   "execution_count": 9,
   "metadata": {},
   "outputs": [],
   "source": [
    "def nn_singleact(input_shapex):\n",
    "    inputlayer1 = Input(shape = input_shapex)\n",
    "    x = Conv2D(32, kernel_size=(3, 3), padding='same', activation='relu')(inputlayer1)\n",
    "    x = MaxPooling2D(pool_size=(2,2))(x)\n",
    "    x = Conv2D(64, kernel_size=(3, 3), padding='same', activation='relu')(x)\n",
    "    x = MaxPooling2D(pool_size=(2,2))(x)\n",
    "    x = Conv2D(128, kernel_size=(3, 3), padding='same', activation='relu')(x)\n",
    "    x = MaxPooling2D(pool_size=(2,2))(x)\n",
    "    x = Conv2D(128, kernel_size=(3, 3), padding='same', activation='relu')(x)\n",
    "    x = MaxPooling2D(pool_size=(2,2))(x)\n",
    "    x = Flatten()(x)\n",
    "    x = Dense(120, activation='relu')(x)\n",
    "    x = Dense(240, activation='relu')(x)\n",
    "    x = Reshape(target_shape = (max_num_target, 240//max_num_target))(x)\n",
    "#     x = Dropout(0.5)(x)\n",
    "    out1 = TimeDistributed(Dense(num_class,activation='sigmoid'))(x)\n",
    "#     out1 = TimeDistributed(Dense(num_class,activation='sigmoid'))(x)\n",
    "#     x = Bidirectional(LSTM(64, dropout=0.5, return_sequences=True))(x)\n",
    "#     out1 = Dense(num_class,activation='softmax')(x)\n",
    "#         out1 = TimeDistributed(Dense(num_class,activation='softmax'))(x, mask=maskinput)\n",
    "#         model = keras.Model(inputs = [inputlayer1,maskinput], outputs = [out1])#, out2, out3])\n",
    "    model = keras.Model(inputs = [inputlayer1], outputs = [out1])#, out2, out3])\n",
    "    opt = Adam(lr=1e-3, decay=1e-3 / 200)\n",
    "    model.compile(loss = 'binary_crossentropy', optimizer=opt, metrics = ['accuracy'])\n",
    "    return model "
   ]
  },
  {
   "cell_type": "code",
   "execution_count": 10,
   "metadata": {},
   "outputs": [],
   "source": [
    "# def cnn(input_shapex):\n",
    "#     inputlayer1 = Input(shape = input_shapex)\n",
    "#     x = Conv2D(32, kernel_size=(3, 3), padding='same', activation='relu')(inputlayer1)\n",
    "#     x = MaxPooling2D(pool_size=(2,2))(x)\n",
    "#     x = Conv2D(64, kernel_size=(3, 3), padding='same', activation='relu')(x)\n",
    "#     x = MaxPooling2D(pool_size=(2,2))(x)\n",
    "#     x = Conv2D(128, kernel_size=(3, 3), padding='same', activation='relu')(x)\n",
    "#     x = MaxPooling2D(pool_size=(2,2))(x)\n",
    "#     x = Conv2D(128, kernel_size=(3, 3), padding='same', activation='relu')(x)\n",
    "#     x = MaxPooling2D(pool_size=(2,2))(x)\n",
    "    \n",
    "#     return x "
   ]
  },
  {
   "cell_type": "code",
   "execution_count": 11,
   "metadata": {},
   "outputs": [],
   "source": [
    "# def tpn(base_layers, max_num_target):\n",
    "#     x = Conv2D(256, kernel_size=(3, 3), padding='same', activation='relu')(base_layers)\n",
    "    \n",
    "#     # classification layers to predict if there is target or not\n",
    "#     x_class = Conv2D(max_num_target, kernel_size=(1, 1), activation='sigmoid')(x)\n",
    "    \n",
    "#     return [x_class, base_layers]"
   ]
  },
  {
   "cell_type": "code",
   "execution_count": 12,
   "metadata": {},
   "outputs": [
    {
     "name": "stdout",
     "output_type": "stream",
     "text": [
      "Data shapes:\n",
      "(136, 128, 128, 3)\n",
      "(136, 2, 6)\n",
      "(46, 128, 128, 3)\n",
      "(46, 2, 6)\n"
     ]
    }
   ],
   "source": [
    "# data\n",
    "\n",
    "x = load_hdf5('datasets/gest_single_act_6clas.hdf5')\n",
    "x_train, x_test, y_train, y_test = [x['train_img'], x['test_img'], x['train_labels'], x['test_labels']]\n",
    "\n",
    "y_temp = np.zeros((y_train.shape[0], max_num_target, num_class))\n",
    "y_temp[:, 0, :] = y_train\n",
    "y_train = y_temp\n",
    "\n",
    "y_temp = np.zeros((y_test.shape[0], max_num_target, num_class))\n",
    "y_temp[:, 0, :] = y_test\n",
    "y_test = y_temp\n",
    "\n",
    "print('Data shapes:')\n",
    "print(x_train.shape)\n",
    "print(y_train.shape)\n",
    "print(x_test.shape)\n",
    "print(y_test.shape)"
   ]
  },
  {
   "cell_type": "code",
   "execution_count": 13,
   "metadata": {},
   "outputs": [
    {
     "name": "stdout",
     "output_type": "stream",
     "text": [
      "Input shape:  (128, 128, 3)\n"
     ]
    }
   ],
   "source": [
    "input_shape = (x_train.shape[1], x_train.shape[2], x_train.shape[3])\n",
    "print('Input shape: ', input_shape)"
   ]
  },
  {
   "cell_type": "code",
   "execution_count": 14,
   "metadata": {},
   "outputs": [],
   "source": [
    "batch_size = 64\n",
    "model_name = 'models/gest_single_act'\n",
    "checkpoint_callback = checkpoint_filepath(model_name)\n",
    "nn = nn_singleact(input_shape)\n",
    "\n",
    "train_dataset = data_generator(x_train, y_train, batch_size)\n",
    "validation_dataset = data_generator(x_test, y_test, batch_size)"
   ]
  },
  {
   "cell_type": "code",
   "execution_count": 15,
   "metadata": {},
   "outputs": [
    {
     "data": {
      "image/png": "[encoded data removed]",
      "text/plain": [
       "<Figure size 864x576 with 2 Axes>"
      ]
     },
     "metadata": {
      "needs_background": "light"
     },
     "output_type": "display_data"
    },
    {
     "name": "stdout",
     "output_type": "stream",
     "text": [
      "accuracy\n",
      "\ttraining         \t (min:    0.088, max:    0.941, cur:    0.941)\n",
      "\tvalidation       \t (min:    0.076, max:    0.630, cur:    0.630)\n",
      "Loss\n",
      "\ttraining         \t (min:    0.000, max:    0.647, cur:    0.000)\n",
      "\tvalidation       \t (min:    0.225, max:    1.032, cur:    1.032)\n",
      "\b\b\b\b\b\b\b\b\b\b\b\b\b\b\b\b\b\b\b\b\b\b\b\b\b\b\b\b\b\b\b\b\b\b\b\b\b\b\b\b\b\b\b\b\b\b\b\b\b\b\b\b\b\b\b\b\b\b\b\b\b\b\b\b\b\b\b\b\b\b\b\b\b\b\b\b\b\b\b\b\b\b\b\b\r",
      "3/3 [==============================] - 1s 171ms/step - loss: 3.8517e-07 - accuracy: 0.9412 - val_loss: 1.0322 - val_accuracy: 0.6304\n"
     ]
    }
   ],
   "source": [
    "# history = nn.fit(\n",
    "#     np.array(x_train), np.array(y_train),\n",
    "#     validation_data = [np.array(x_test), np.array(y_test)],\n",
    "#     batch_size = batch_size,\n",
    "#     epochs=200,\n",
    "#     shuffle=False,\n",
    "#     callbacks=[early_stopping, PlotLossesKerasTF(), checkpoint_callback],\n",
    "#     verbose = 1\n",
    "# )\n",
    "\n",
    "history = nn.fit(\n",
    "    train_dataset,\n",
    "    validation_data=validation_dataset,\n",
    "#     batch_size = 1,\n",
    "    epochs=500,\n",
    "    shuffle = False,\n",
    "    steps_per_epoch = math.ceil(len(y_train) / batch_size), validation_steps = math.ceil(len(y_test) / batch_size),\n",
    "    callbacks=[PlotLossesKerasTF(), checkpoint_callback],\n",
    "    verbose = 1\n",
    ")"
   ]
  },
  {
   "cell_type": "markdown",
   "metadata": {},
   "source": [
    "## Load trained model"
   ]
  },
  {
   "cell_type": "code",
   "execution_count": 16,
   "metadata": {},
   "outputs": [],
   "source": [
    "model_name = 'models/gest_single_act'\n",
    "nn2 = keras.models.load_model(model_name)\n",
    "# nn2.evaluate(validation_dataset, steps = math.ceil(len(y_test) / batch_size))"
   ]
  },
  {
   "cell_type": "code",
   "execution_count": 17,
   "metadata": {},
   "outputs": [
    {
     "name": "stderr",
     "output_type": "stream",
     "text": [
      "100%|██████████| 46/46 [00:01<00:00, 23.99it/s]\n"
     ]
    },
    {
     "data": {
      "text/plain": [
       "(46, 2, 6)"
      ]
     },
     "execution_count": 17,
     "metadata": {},
     "output_type": "execute_result"
    }
   ],
   "source": [
    "pred_dataset = data_generator_pred(x_test, y_test)\n",
    "preds = np.array([np.squeeze(nn2.predict(next(pred_dataset))) for i in tqdm(range(len(y_test)), position=0)])\n",
    "preds.shape"
   ]
  },
  {
   "cell_type": "code",
   "execution_count": 18,
   "metadata": {},
   "outputs": [
    {
     "name": "stdout",
     "output_type": "stream",
     "text": [
      "Acc: 32.61 %, correct: 15 , wrong: 31\n"
     ]
    }
   ],
   "source": [
    "# compute accuracy\n",
    "\n",
    "correct = 0\n",
    "wrong = 0\n",
    "\n",
    "for i in range(len(y_test)):\n",
    "    for j in range(len(y_test[i])):\n",
    "        if sum(y_test[i][j]) != 0 or sum(preds[i][j]) > 0.5: # if there is target\n",
    "            if np.argmax(y_test[i][j]) == np.argmax(preds[i][j]):\n",
    "                if y_test[i][j][0] == 1 and preds[i][j][0] < 0.5:\n",
    "                    wrong += 1\n",
    "                else:\n",
    "                    correct += 1\n",
    "            else:\n",
    "                wrong += 1\n",
    "acc = correct / (correct + wrong) * 100\n",
    "print('Acc:', round(acc,2), '%, correct:', correct, ', wrong:', wrong)"
   ]
  },
  {
   "cell_type": "markdown",
   "metadata": {},
   "source": [
    "## Single act network2"
   ]
  },
  {
   "cell_type": "code",
   "execution_count": 33,
   "metadata": {},
   "outputs": [],
   "source": [
    "def nn_singleact2(input_shapex):\n",
    "    inputlayer1 = Input(shape = input_shapex)\n",
    "    x = Conv2D(32, kernel_size=(3, 3), padding='same', activation='relu')(inputlayer1)\n",
    "    x = MaxPooling2D(pool_size=(2,2))(x)\n",
    "#     x = Conv2D(64, kernel_size=(3, 3), padding='same', activation='relu')(x)\n",
    "#     x = MaxPooling2D(pool_size=(2,2))(x)\n",
    "#     x = Conv2D(128, kernel_size=(3, 3), padding='same', activation='relu')(x)\n",
    "#     x = MaxPooling2D(pool_size=(2,2))(x)\n",
    "#     x = Conv2D(128, kernel_size=(3, 3), padding='same', activation='relu')(x)\n",
    "#     x = MaxPooling2D(pool_size=(2,2))(x)\n",
    "    x = Flatten()(x)\n",
    "    x = Dense(120, activation='relu')(x)\n",
    "#     x = Dense(240, activation='relu')(x)\n",
    "#     x = Dropout(0.5)(x)\n",
    "    out1 = Dense(num_class,activation='softmax')(x)\n",
    "#     out1 = TimeDistributed(Dense(num_class,activation='sigmoid'))(x)\n",
    "#     x = Bidirectional(LSTM(64, dropout=0.5, return_sequences=True))(x)\n",
    "#     out1 = Dense(num_class,activation='softmax')(x)\n",
    "#         out1 = TimeDistributed(Dense(num_class,activation='softmax'))(x, mask=maskinput)\n",
    "#         model = keras.Model(inputs = [inputlayer1,maskinput], outputs = [out1])#, out2, out3])\n",
    "    model = keras.Model(inputs = [inputlayer1], outputs = [out1])#, out2, out3])\n",
    "    opt = Adam(lr=1e-3, decay=1e-3 / 200)\n",
    "    model.compile(loss = 'categorical_crossentropy', optimizer=opt, metrics = ['accuracy'])\n",
    "    return model "
   ]
  },
  {
   "cell_type": "code",
   "execution_count": 34,
   "metadata": {},
   "outputs": [
    {
     "name": "stdout",
     "output_type": "stream",
     "text": [
      "Data shapes:\n",
      "(91, 128, 128, 3)\n",
      "(91, 6)\n",
      "(91, 128, 128, 3)\n",
      "(91, 6)\n"
     ]
    }
   ],
   "source": [
    "# data\n",
    "\n",
    "x = load_hdf5('datasets/gest_single_act_6clas_v3.hdf5')\n",
    "x_train, x_test, y_train, y_test = [x['train_img'], x['test_img'], x['train_labels'], x['test_labels']]\n",
    "\n",
    "print('Data shapes:')\n",
    "print(x_train.shape)\n",
    "print(y_train.shape)\n",
    "print(x_test.shape)\n",
    "print(y_test.shape)"
   ]
  },
  {
   "cell_type": "code",
   "execution_count": 35,
   "metadata": {},
   "outputs": [],
   "source": [
    "batch_size = 64\n",
    "model_name = 'models/gest_single_act2'\n",
    "checkpoint_callback = checkpoint_filepath(model_name)\n",
    "nn = nn_singleact2(input_shape)\n",
    "\n",
    "train_dataset = data_generator(x_train, y_train, batch_size)\n",
    "validation_dataset = data_generator(x_test, y_test, batch_size)"
   ]
  },
  {
   "cell_type": "code",
   "execution_count": 36,
   "metadata": {},
   "outputs": [
    {
     "data": {
      "image/png": "[encoded data removed]",
      "text/plain": [
       "<Figure size 864x576 with 2 Axes>"
      ]
     },
     "metadata": {
      "needs_background": "light"
     },
     "output_type": "display_data"
    },
    {
     "name": "stdout",
     "output_type": "stream",
     "text": [
      "accuracy\n",
      "\ttraining         \t (min:    0.209, max:    1.000, cur:    1.000)\n",
      "\tvalidation       \t (min:    0.088, max:    0.297, cur:    0.253)\n",
      "Loss\n",
      "\ttraining         \t (min:    0.004, max:    2.273, cur:    0.004)\n",
      "\tvalidation       \t (min:    1.899, max:    3.624, cur:    3.624)\n",
      "2/2 [==============================] - 1s 278ms/step - loss: 0.0036 - accuracy: 1.0000 - val_loss: 3.6245 - val_accuracy: 0.2527\n",
      "Epoch 15/500\n",
      "1/2 [==============>...............] - ETA: 0s - loss: 0.0036 - accuracy: 1.0000"
     ]
    },
    {
     "ename": "KeyboardInterrupt",
     "evalue": "",
     "output_type": "error",
     "traceback": [
      "\u001b[0;31m---------------------------------------------------------------------------\u001b[0m",
      "\u001b[0;31mKeyboardInterrupt\u001b[0m                         Traceback (most recent call last)",
      "\u001b[0;32m<ipython-input-36-27cbb762abd2>\u001b[0m in \u001b[0;36m<module>\u001b[0;34m\u001b[0m\n\u001b[1;32m     17\u001b[0m     \u001b[0msteps_per_epoch\u001b[0m \u001b[0;34m=\u001b[0m \u001b[0mmath\u001b[0m\u001b[0;34m.\u001b[0m\u001b[0mceil\u001b[0m\u001b[0;34m(\u001b[0m\u001b[0mlen\u001b[0m\u001b[0;34m(\u001b[0m\u001b[0my_train\u001b[0m\u001b[0;34m)\u001b[0m \u001b[0;34m/\u001b[0m \u001b[0mbatch_size\u001b[0m\u001b[0;34m)\u001b[0m\u001b[0;34m,\u001b[0m \u001b[0mvalidation_steps\u001b[0m \u001b[0;34m=\u001b[0m \u001b[0mmath\u001b[0m\u001b[0;34m.\u001b[0m\u001b[0mceil\u001b[0m\u001b[0;34m(\u001b[0m\u001b[0mlen\u001b[0m\u001b[0;34m(\u001b[0m\u001b[0my_test\u001b[0m\u001b[0;34m)\u001b[0m \u001b[0;34m/\u001b[0m \u001b[0mbatch_size\u001b[0m\u001b[0;34m)\u001b[0m\u001b[0;34m,\u001b[0m\u001b[0;34m\u001b[0m\u001b[0;34m\u001b[0m\u001b[0m\n\u001b[1;32m     18\u001b[0m     \u001b[0mcallbacks\u001b[0m\u001b[0;34m=\u001b[0m\u001b[0;34m[\u001b[0m\u001b[0mPlotLossesKerasTF\u001b[0m\u001b[0;34m(\u001b[0m\u001b[0;34m)\u001b[0m\u001b[0;34m,\u001b[0m \u001b[0mcheckpoint_callback\u001b[0m\u001b[0;34m]\u001b[0m\u001b[0;34m,\u001b[0m\u001b[0;34m\u001b[0m\u001b[0;34m\u001b[0m\u001b[0m\n\u001b[0;32m---> 19\u001b[0;31m     \u001b[0mverbose\u001b[0m \u001b[0;34m=\u001b[0m \u001b[0;36m1\u001b[0m\u001b[0;34m\u001b[0m\u001b[0;34m\u001b[0m\u001b[0m\n\u001b[0m\u001b[1;32m     20\u001b[0m )\n",
      "\u001b[0;32m/usr/local/lib/python3.7/site-packages/tensorflow/python/keras/engine/training.py\u001b[0m in \u001b[0;36m_method_wrapper\u001b[0;34m(self, *args, **kwargs)\u001b[0m\n\u001b[1;32m    106\u001b[0m   \u001b[0;32mdef\u001b[0m \u001b[0m_method_wrapper\u001b[0m\u001b[0;34m(\u001b[0m\u001b[0mself\u001b[0m\u001b[0;34m,\u001b[0m \u001b[0;34m*\u001b[0m\u001b[0margs\u001b[0m\u001b[0;34m,\u001b[0m \u001b[0;34m**\u001b[0m\u001b[0mkwargs\u001b[0m\u001b[0;34m)\u001b[0m\u001b[0;34m:\u001b[0m\u001b[0;34m\u001b[0m\u001b[0;34m\u001b[0m\u001b[0m\n\u001b[1;32m    107\u001b[0m     \u001b[0;32mif\u001b[0m \u001b[0;32mnot\u001b[0m \u001b[0mself\u001b[0m\u001b[0;34m.\u001b[0m\u001b[0m_in_multi_worker_mode\u001b[0m\u001b[0;34m(\u001b[0m\u001b[0;34m)\u001b[0m\u001b[0;34m:\u001b[0m  \u001b[0;31m# pylint: disable=protected-access\u001b[0m\u001b[0;34m\u001b[0m\u001b[0;34m\u001b[0m\u001b[0m\n\u001b[0;32m--> 108\u001b[0;31m       \u001b[0;32mreturn\u001b[0m \u001b[0mmethod\u001b[0m\u001b[0;34m(\u001b[0m\u001b[0mself\u001b[0m\u001b[0;34m,\u001b[0m \u001b[0;34m*\u001b[0m\u001b[0margs\u001b[0m\u001b[0;34m,\u001b[0m \u001b[0;34m**\u001b[0m\u001b[0mkwargs\u001b[0m\u001b[0;34m)\u001b[0m\u001b[0;34m\u001b[0m\u001b[0;34m\u001b[0m\u001b[0m\n\u001b[0m\u001b[1;32m    109\u001b[0m \u001b[0;34m\u001b[0m\u001b[0m\n\u001b[1;32m    110\u001b[0m     \u001b[0;31m# Running inside `run_distribute_coordinator` already.\u001b[0m\u001b[0;34m\u001b[0m\u001b[0;34m\u001b[0m\u001b[0;34m\u001b[0m\u001b[0m\n",
      "\u001b[0;32m/usr/local/lib/python3.7/site-packages/tensorflow/python/keras/engine/training.py\u001b[0m in \u001b[0;36mfit\u001b[0;34m(self, x, y, batch_size, epochs, verbose, callbacks, validation_split, validation_data, shuffle, class_weight, sample_weight, initial_epoch, steps_per_epoch, validation_steps, validation_batch_size, validation_freq, max_queue_size, workers, use_multiprocessing)\u001b[0m\n\u001b[1;32m   1131\u001b[0m               \u001b[0mworkers\u001b[0m\u001b[0;34m=\u001b[0m\u001b[0mworkers\u001b[0m\u001b[0;34m,\u001b[0m\u001b[0;34m\u001b[0m\u001b[0;34m\u001b[0m\u001b[0m\n\u001b[1;32m   1132\u001b[0m               \u001b[0muse_multiprocessing\u001b[0m\u001b[0;34m=\u001b[0m\u001b[0muse_multiprocessing\u001b[0m\u001b[0;34m,\u001b[0m\u001b[0;34m\u001b[0m\u001b[0;34m\u001b[0m\u001b[0m\n\u001b[0;32m-> 1133\u001b[0;31m               return_dict=True)\n\u001b[0m\u001b[1;32m   1134\u001b[0m           \u001b[0mval_logs\u001b[0m \u001b[0;34m=\u001b[0m \u001b[0;34m{\u001b[0m\u001b[0;34m'val_'\u001b[0m \u001b[0;34m+\u001b[0m \u001b[0mname\u001b[0m\u001b[0;34m:\u001b[0m \u001b[0mval\u001b[0m \u001b[0;32mfor\u001b[0m \u001b[0mname\u001b[0m\u001b[0;34m,\u001b[0m \u001b[0mval\u001b[0m \u001b[0;32min\u001b[0m \u001b[0mval_logs\u001b[0m\u001b[0;34m.\u001b[0m\u001b[0mitems\u001b[0m\u001b[0;34m(\u001b[0m\u001b[0;34m)\u001b[0m\u001b[0;34m}\u001b[0m\u001b[0;34m\u001b[0m\u001b[0;34m\u001b[0m\u001b[0m\n\u001b[1;32m   1135\u001b[0m           \u001b[0mepoch_logs\u001b[0m\u001b[0;34m.\u001b[0m\u001b[0mupdate\u001b[0m\u001b[0;34m(\u001b[0m\u001b[0mval_logs\u001b[0m\u001b[0;34m)\u001b[0m\u001b[0;34m\u001b[0m\u001b[0;34m\u001b[0m\u001b[0m\n",
      "\u001b[0;32m/usr/local/lib/python3.7/site-packages/tensorflow/python/keras/engine/training.py\u001b[0m in \u001b[0;36m_method_wrapper\u001b[0;34m(self, *args, **kwargs)\u001b[0m\n\u001b[1;32m    106\u001b[0m   \u001b[0;32mdef\u001b[0m \u001b[0m_method_wrapper\u001b[0m\u001b[0;34m(\u001b[0m\u001b[0mself\u001b[0m\u001b[0;34m,\u001b[0m \u001b[0;34m*\u001b[0m\u001b[0margs\u001b[0m\u001b[0;34m,\u001b[0m \u001b[0;34m**\u001b[0m\u001b[0mkwargs\u001b[0m\u001b[0;34m)\u001b[0m\u001b[0;34m:\u001b[0m\u001b[0;34m\u001b[0m\u001b[0;34m\u001b[0m\u001b[0m\n\u001b[1;32m    107\u001b[0m     \u001b[0;32mif\u001b[0m \u001b[0;32mnot\u001b[0m \u001b[0mself\u001b[0m\u001b[0;34m.\u001b[0m\u001b[0m_in_multi_worker_mode\u001b[0m\u001b[0;34m(\u001b[0m\u001b[0;34m)\u001b[0m\u001b[0;34m:\u001b[0m  \u001b[0;31m# pylint: disable=protected-access\u001b[0m\u001b[0;34m\u001b[0m\u001b[0;34m\u001b[0m\u001b[0m\n\u001b[0;32m--> 108\u001b[0;31m       \u001b[0;32mreturn\u001b[0m \u001b[0mmethod\u001b[0m\u001b[0;34m(\u001b[0m\u001b[0mself\u001b[0m\u001b[0;34m,\u001b[0m \u001b[0;34m*\u001b[0m\u001b[0margs\u001b[0m\u001b[0;34m,\u001b[0m \u001b[0;34m**\u001b[0m\u001b[0mkwargs\u001b[0m\u001b[0;34m)\u001b[0m\u001b[0;34m\u001b[0m\u001b[0;34m\u001b[0m\u001b[0m\n\u001b[0m\u001b[1;32m    109\u001b[0m \u001b[0;34m\u001b[0m\u001b[0m\n\u001b[1;32m    110\u001b[0m     \u001b[0;31m# Running inside `run_distribute_coordinator` already.\u001b[0m\u001b[0;34m\u001b[0m\u001b[0;34m\u001b[0m\u001b[0;34m\u001b[0m\u001b[0m\n",
      "\u001b[0;32m/usr/local/lib/python3.7/site-packages/tensorflow/python/keras/engine/training.py\u001b[0m in \u001b[0;36mevaluate\u001b[0;34m(self, x, y, batch_size, verbose, sample_weight, steps, callbacks, max_queue_size, workers, use_multiprocessing, return_dict)\u001b[0m\n\u001b[1;32m   1377\u001b[0m             \u001b[0;32mwith\u001b[0m \u001b[0mtrace\u001b[0m\u001b[0;34m.\u001b[0m\u001b[0mTrace\u001b[0m\u001b[0;34m(\u001b[0m\u001b[0;34m'TraceContext'\u001b[0m\u001b[0;34m,\u001b[0m \u001b[0mgraph_type\u001b[0m\u001b[0;34m=\u001b[0m\u001b[0;34m'test'\u001b[0m\u001b[0;34m,\u001b[0m \u001b[0mstep_num\u001b[0m\u001b[0;34m=\u001b[0m\u001b[0mstep\u001b[0m\u001b[0;34m)\u001b[0m\u001b[0;34m:\u001b[0m\u001b[0;34m\u001b[0m\u001b[0;34m\u001b[0m\u001b[0m\n\u001b[1;32m   1378\u001b[0m               \u001b[0mcallbacks\u001b[0m\u001b[0;34m.\u001b[0m\u001b[0mon_test_batch_begin\u001b[0m\u001b[0;34m(\u001b[0m\u001b[0mstep\u001b[0m\u001b[0;34m)\u001b[0m\u001b[0;34m\u001b[0m\u001b[0;34m\u001b[0m\u001b[0m\n\u001b[0;32m-> 1379\u001b[0;31m               \u001b[0mtmp_logs\u001b[0m \u001b[0;34m=\u001b[0m \u001b[0mtest_function\u001b[0m\u001b[0;34m(\u001b[0m\u001b[0miterator\u001b[0m\u001b[0;34m)\u001b[0m\u001b[0;34m\u001b[0m\u001b[0;34m\u001b[0m\u001b[0m\n\u001b[0m\u001b[1;32m   1380\u001b[0m               \u001b[0;32mif\u001b[0m \u001b[0mdata_handler\u001b[0m\u001b[0;34m.\u001b[0m\u001b[0mshould_sync\u001b[0m\u001b[0;34m:\u001b[0m\u001b[0;34m\u001b[0m\u001b[0;34m\u001b[0m\u001b[0m\n\u001b[1;32m   1381\u001b[0m                 \u001b[0mcontext\u001b[0m\u001b[0;34m.\u001b[0m\u001b[0masync_wait\u001b[0m\u001b[0;34m(\u001b[0m\u001b[0;34m)\u001b[0m\u001b[0;34m\u001b[0m\u001b[0;34m\u001b[0m\u001b[0m\n",
      "\u001b[0;32m/usr/local/lib/python3.7/site-packages/tensorflow/python/eager/def_function.py\u001b[0m in \u001b[0;36m__call__\u001b[0;34m(self, *args, **kwds)\u001b[0m\n\u001b[1;32m    778\u001b[0m       \u001b[0;32melse\u001b[0m\u001b[0;34m:\u001b[0m\u001b[0;34m\u001b[0m\u001b[0;34m\u001b[0m\u001b[0m\n\u001b[1;32m    779\u001b[0m         \u001b[0mcompiler\u001b[0m \u001b[0;34m=\u001b[0m \u001b[0;34m\"nonXla\"\u001b[0m\u001b[0;34m\u001b[0m\u001b[0;34m\u001b[0m\u001b[0m\n\u001b[0;32m--> 780\u001b[0;31m         \u001b[0mresult\u001b[0m \u001b[0;34m=\u001b[0m \u001b[0mself\u001b[0m\u001b[0;34m.\u001b[0m\u001b[0m_call\u001b[0m\u001b[0;34m(\u001b[0m\u001b[0;34m*\u001b[0m\u001b[0margs\u001b[0m\u001b[0;34m,\u001b[0m \u001b[0;34m**\u001b[0m\u001b[0mkwds\u001b[0m\u001b[0;34m)\u001b[0m\u001b[0;34m\u001b[0m\u001b[0;34m\u001b[0m\u001b[0m\n\u001b[0m\u001b[1;32m    781\u001b[0m \u001b[0;34m\u001b[0m\u001b[0m\n\u001b[1;32m    782\u001b[0m       \u001b[0mnew_tracing_count\u001b[0m \u001b[0;34m=\u001b[0m \u001b[0mself\u001b[0m\u001b[0;34m.\u001b[0m\u001b[0m_get_tracing_count\u001b[0m\u001b[0;34m(\u001b[0m\u001b[0;34m)\u001b[0m\u001b[0;34m\u001b[0m\u001b[0;34m\u001b[0m\u001b[0m\n",
      "\u001b[0;32m/usr/local/lib/python3.7/site-packages/tensorflow/python/eager/def_function.py\u001b[0m in \u001b[0;36m_call\u001b[0;34m(self, *args, **kwds)\u001b[0m\n\u001b[1;32m    812\u001b[0m       \u001b[0;31m# In this case we have not created variables on the first call. So we can\u001b[0m\u001b[0;34m\u001b[0m\u001b[0;34m\u001b[0m\u001b[0;34m\u001b[0m\u001b[0m\n\u001b[1;32m    813\u001b[0m       \u001b[0;31m# run the first trace but we should fail if variables are created.\u001b[0m\u001b[0;34m\u001b[0m\u001b[0;34m\u001b[0m\u001b[0;34m\u001b[0m\u001b[0m\n\u001b[0;32m--> 814\u001b[0;31m       \u001b[0mresults\u001b[0m \u001b[0;34m=\u001b[0m \u001b[0mself\u001b[0m\u001b[0;34m.\u001b[0m\u001b[0m_stateful_fn\u001b[0m\u001b[0;34m(\u001b[0m\u001b[0;34m*\u001b[0m\u001b[0margs\u001b[0m\u001b[0;34m,\u001b[0m \u001b[0;34m**\u001b[0m\u001b[0mkwds\u001b[0m\u001b[0;34m)\u001b[0m\u001b[0;34m\u001b[0m\u001b[0;34m\u001b[0m\u001b[0m\n\u001b[0m\u001b[1;32m    815\u001b[0m       \u001b[0;32mif\u001b[0m \u001b[0mself\u001b[0m\u001b[0;34m.\u001b[0m\u001b[0m_created_variables\u001b[0m\u001b[0;34m:\u001b[0m\u001b[0;34m\u001b[0m\u001b[0;34m\u001b[0m\u001b[0m\n\u001b[1;32m    816\u001b[0m         raise ValueError(\"Creating variables on a non-first call to a function\"\n",
      "\u001b[0;32m/usr/local/lib/python3.7/site-packages/tensorflow/python/eager/function.py\u001b[0m in \u001b[0;36m__call__\u001b[0;34m(self, *args, **kwargs)\u001b[0m\n\u001b[1;32m   2827\u001b[0m     \u001b[0;32mwith\u001b[0m \u001b[0mself\u001b[0m\u001b[0;34m.\u001b[0m\u001b[0m_lock\u001b[0m\u001b[0;34m:\u001b[0m\u001b[0;34m\u001b[0m\u001b[0;34m\u001b[0m\u001b[0m\n\u001b[1;32m   2828\u001b[0m       \u001b[0mgraph_function\u001b[0m\u001b[0;34m,\u001b[0m \u001b[0margs\u001b[0m\u001b[0;34m,\u001b[0m \u001b[0mkwargs\u001b[0m \u001b[0;34m=\u001b[0m \u001b[0mself\u001b[0m\u001b[0;34m.\u001b[0m\u001b[0m_maybe_define_function\u001b[0m\u001b[0;34m(\u001b[0m\u001b[0margs\u001b[0m\u001b[0;34m,\u001b[0m \u001b[0mkwargs\u001b[0m\u001b[0;34m)\u001b[0m\u001b[0;34m\u001b[0m\u001b[0;34m\u001b[0m\u001b[0m\n\u001b[0;32m-> 2829\u001b[0;31m     \u001b[0;32mreturn\u001b[0m \u001b[0mgraph_function\u001b[0m\u001b[0;34m.\u001b[0m\u001b[0m_filtered_call\u001b[0m\u001b[0;34m(\u001b[0m\u001b[0margs\u001b[0m\u001b[0;34m,\u001b[0m \u001b[0mkwargs\u001b[0m\u001b[0;34m)\u001b[0m  \u001b[0;31m# pylint: disable=protected-access\u001b[0m\u001b[0;34m\u001b[0m\u001b[0;34m\u001b[0m\u001b[0m\n\u001b[0m\u001b[1;32m   2830\u001b[0m \u001b[0;34m\u001b[0m\u001b[0m\n\u001b[1;32m   2831\u001b[0m   \u001b[0;34m@\u001b[0m\u001b[0mproperty\u001b[0m\u001b[0;34m\u001b[0m\u001b[0;34m\u001b[0m\u001b[0m\n",
      "\u001b[0;32m/usr/local/lib/python3.7/site-packages/tensorflow/python/eager/function.py\u001b[0m in \u001b[0;36m_filtered_call\u001b[0;34m(self, args, kwargs, cancellation_manager)\u001b[0m\n\u001b[1;32m   1846\u001b[0m                            resource_variable_ops.BaseResourceVariable))],\n\u001b[1;32m   1847\u001b[0m         \u001b[0mcaptured_inputs\u001b[0m\u001b[0;34m=\u001b[0m\u001b[0mself\u001b[0m\u001b[0;34m.\u001b[0m\u001b[0mcaptured_inputs\u001b[0m\u001b[0;34m,\u001b[0m\u001b[0;34m\u001b[0m\u001b[0;34m\u001b[0m\u001b[0m\n\u001b[0;32m-> 1848\u001b[0;31m         cancellation_manager=cancellation_manager)\n\u001b[0m\u001b[1;32m   1849\u001b[0m \u001b[0;34m\u001b[0m\u001b[0m\n\u001b[1;32m   1850\u001b[0m   \u001b[0;32mdef\u001b[0m \u001b[0m_call_flat\u001b[0m\u001b[0;34m(\u001b[0m\u001b[0mself\u001b[0m\u001b[0;34m,\u001b[0m \u001b[0margs\u001b[0m\u001b[0;34m,\u001b[0m \u001b[0mcaptured_inputs\u001b[0m\u001b[0;34m,\u001b[0m \u001b[0mcancellation_manager\u001b[0m\u001b[0;34m=\u001b[0m\u001b[0;32mNone\u001b[0m\u001b[0;34m)\u001b[0m\u001b[0;34m:\u001b[0m\u001b[0;34m\u001b[0m\u001b[0;34m\u001b[0m\u001b[0m\n",
      "\u001b[0;32m/usr/local/lib/python3.7/site-packages/tensorflow/python/eager/function.py\u001b[0m in \u001b[0;36m_call_flat\u001b[0;34m(self, args, captured_inputs, cancellation_manager)\u001b[0m\n\u001b[1;32m   1922\u001b[0m       \u001b[0;31m# No tape is watching; skip to running the function.\u001b[0m\u001b[0;34m\u001b[0m\u001b[0;34m\u001b[0m\u001b[0;34m\u001b[0m\u001b[0m\n\u001b[1;32m   1923\u001b[0m       return self._build_call_outputs(self._inference_function.call(\n\u001b[0;32m-> 1924\u001b[0;31m           ctx, args, cancellation_manager=cancellation_manager))\n\u001b[0m\u001b[1;32m   1925\u001b[0m     forward_backward = self._select_forward_and_backward_functions(\n\u001b[1;32m   1926\u001b[0m         \u001b[0margs\u001b[0m\u001b[0;34m,\u001b[0m\u001b[0;34m\u001b[0m\u001b[0;34m\u001b[0m\u001b[0m\n",
      "\u001b[0;32m/usr/local/lib/python3.7/site-packages/tensorflow/python/eager/function.py\u001b[0m in \u001b[0;36mcall\u001b[0;34m(self, ctx, args, cancellation_manager)\u001b[0m\n\u001b[1;32m    548\u001b[0m               \u001b[0minputs\u001b[0m\u001b[0;34m=\u001b[0m\u001b[0margs\u001b[0m\u001b[0;34m,\u001b[0m\u001b[0;34m\u001b[0m\u001b[0;34m\u001b[0m\u001b[0m\n\u001b[1;32m    549\u001b[0m               \u001b[0mattrs\u001b[0m\u001b[0;34m=\u001b[0m\u001b[0mattrs\u001b[0m\u001b[0;34m,\u001b[0m\u001b[0;34m\u001b[0m\u001b[0;34m\u001b[0m\u001b[0m\n\u001b[0;32m--> 550\u001b[0;31m               ctx=ctx)\n\u001b[0m\u001b[1;32m    551\u001b[0m         \u001b[0;32melse\u001b[0m\u001b[0;34m:\u001b[0m\u001b[0;34m\u001b[0m\u001b[0;34m\u001b[0m\u001b[0m\n\u001b[1;32m    552\u001b[0m           outputs = execute.execute_with_cancellation(\n",
      "\u001b[0;32m/usr/local/lib/python3.7/site-packages/tensorflow/python/eager/execute.py\u001b[0m in \u001b[0;36mquick_execute\u001b[0;34m(op_name, num_outputs, inputs, attrs, ctx, name)\u001b[0m\n\u001b[1;32m     58\u001b[0m     \u001b[0mctx\u001b[0m\u001b[0;34m.\u001b[0m\u001b[0mensure_initialized\u001b[0m\u001b[0;34m(\u001b[0m\u001b[0;34m)\u001b[0m\u001b[0;34m\u001b[0m\u001b[0;34m\u001b[0m\u001b[0m\n\u001b[1;32m     59\u001b[0m     tensors = pywrap_tfe.TFE_Py_Execute(ctx._handle, device_name, op_name,\n\u001b[0;32m---> 60\u001b[0;31m                                         inputs, attrs, num_outputs)\n\u001b[0m\u001b[1;32m     61\u001b[0m   \u001b[0;32mexcept\u001b[0m \u001b[0mcore\u001b[0m\u001b[0;34m.\u001b[0m\u001b[0m_NotOkStatusException\u001b[0m \u001b[0;32mas\u001b[0m \u001b[0me\u001b[0m\u001b[0;34m:\u001b[0m\u001b[0;34m\u001b[0m\u001b[0;34m\u001b[0m\u001b[0m\n\u001b[1;32m     62\u001b[0m     \u001b[0;32mif\u001b[0m \u001b[0mname\u001b[0m \u001b[0;32mis\u001b[0m \u001b[0;32mnot\u001b[0m \u001b[0;32mNone\u001b[0m\u001b[0;34m:\u001b[0m\u001b[0;34m\u001b[0m\u001b[0;34m\u001b[0m\u001b[0m\n",
      "\u001b[0;31mKeyboardInterrupt\u001b[0m: "
     ]
    }
   ],
   "source": [
    "# history = nn.fit(\n",
    "#     np.array(x_train), np.array(y_train),\n",
    "#     validation_data = [np.array(x_test), np.array(y_test)],\n",
    "#     batch_size = batch_size,\n",
    "#     epochs=200,\n",
    "#     shuffle=False,\n",
    "#     callbacks=[early_stopping, PlotLossesKerasTF(), checkpoint_callback],\n",
    "#     verbose = 1\n",
    "# )\n",
    "\n",
    "history = nn.fit(\n",
    "    train_dataset,\n",
    "    validation_data=validation_dataset,\n",
    "#     batch_size = 1,\n",
    "    epochs=500,\n",
    "    shuffle = False,\n",
    "    steps_per_epoch = math.ceil(len(y_train) / batch_size), validation_steps = math.ceil(len(y_test) / batch_size),\n",
    "    callbacks=[PlotLossesKerasTF(), checkpoint_callback],\n",
    "    verbose = 1\n",
    ")"
   ]
  },
  {
   "cell_type": "code",
   "execution_count": null,
   "metadata": {},
   "outputs": [],
   "source": []
  },
  {
   "cell_type": "code",
   "execution_count": null,
   "metadata": {},
   "outputs": [],
   "source": []
  },
  {
   "cell_type": "code",
   "execution_count": null,
   "metadata": {},
   "outputs": [],
   "source": []
  },
  {
   "cell_type": "code",
   "execution_count": null,
   "metadata": {},
   "outputs": [],
   "source": []
  },
  {
   "cell_type": "code",
   "execution_count": null,
   "metadata": {},
   "outputs": [],
   "source": []
  },
  {
   "cell_type": "code",
   "execution_count": null,
   "metadata": {},
   "outputs": [],
   "source": []
  },
  {
   "cell_type": "code",
   "execution_count": null,
   "metadata": {},
   "outputs": [],
   "source": []
  },
  {
   "cell_type": "code",
   "execution_count": null,
   "metadata": {},
   "outputs": [],
   "source": []
  },
  {
   "cell_type": "markdown",
   "metadata": {},
   "source": [
    "## Test on real multi-target"
   ]
  },
  {
   "cell_type": "code",
   "execution_count": null,
   "metadata": {},
   "outputs": [],
   "source": [
    "# data\n",
    "\n",
    "x = load_pkl('datasets/multi_target.pkl')\n",
    "x_train_multi, x_test_multi, y_train_multi, y_test_multi = [x[0], x[1], x[2], x[3]]\n",
    "\n",
    "y_temp = np.zeros((y_train_multi.shape[0], max_num_target, num_class))\n",
    "for i in range(len(y_train_multi)):\n",
    "    y_temp[i, :len(y_train_multi[i]), :] = to_categorical(y_train_multi[i], num_class)\n",
    "y_train_multi = y_temp\n",
    "\n",
    "y_temp = np.zeros((y_test_multi.shape[0], max_num_target, num_class))\n",
    "for i in range(len(y_test_multi)):\n",
    "    y_temp[i, :len(y_test_multi[i]), :] = to_categorical(y_test_multi[i], num_class)\n",
    "y_test_multi = y_temp\n",
    "\n",
    "x_test_multi = np.concatenate([x_train_multi, x_test_multi], 0)\n",
    "y_test_multi = np.concatenate([y_train_multi, y_test_multi], 0)\n",
    "\n",
    "print('Data shapes:')\n",
    "# print(x_train_multi.shape)\n",
    "# print(y_train_multi.shape)\n",
    "print(x_test_multi.shape)\n",
    "print(y_test_multi.shape)"
   ]
  },
  {
   "cell_type": "code",
   "execution_count": null,
   "metadata": {},
   "outputs": [],
   "source": [
    "pred_dataset_multi = data_generator_pred(x_test_multi, y_test_multi)\n",
    "preds = np.array([np.squeeze(nn2.predict(next(pred_dataset_multi))) for i in tqdm(range(len(y_test_multi)), position=0)])\n",
    "preds.shape"
   ]
  },
  {
   "cell_type": "code",
   "execution_count": null,
   "metadata": {},
   "outputs": [],
   "source": [
    "# compute accuracy\n",
    "\n",
    "correct = 0\n",
    "wrong = 0\n",
    "\n",
    "for i in range(len(y_test_multi)):\n",
    "    for j in range(len(y_test_multi[i])):\n",
    "        if sum(y_test_multi[i][j]) != 0 or sum(preds[i][j]) > 0.5: # if there is target\n",
    "            if np.argmax(y_test_multi[i][j]) == np.argmax(preds[i][j]):\n",
    "                if y_test_multi[i][j][0] == 1 and preds[i][j][0] < 0.5:\n",
    "                    wrong += 1\n",
    "                else:\n",
    "                    correct += 1\n",
    "            else:\n",
    "                wrong += 1\n",
    "acc = correct / (correct + wrong) * 100\n",
    "print('Acc:', round(acc,2), '%, correct:', correct, ', wrong:', wrong)"
   ]
  },
  {
   "cell_type": "code",
   "execution_count": null,
   "metadata": {},
   "outputs": [],
   "source": [
    "idx = 8\n",
    "print('GT:', np.argmax(y_test_multi[idx], -1))\n",
    "print('Pred:', np.argmax(preds[idx], -1))\n",
    "print('\\nGT matrix:', y_test_multi[idx])\n",
    "print('Pred matrix:', preds[idx].round(2))"
   ]
  },
  {
   "cell_type": "markdown",
   "metadata": {},
   "source": [
    "## Test on synthetic multi-target"
   ]
  },
  {
   "cell_type": "code",
   "execution_count": null,
   "metadata": {},
   "outputs": [],
   "source": [
    "# data\n",
    "\n",
    "trgts = ['two', 'three']\n",
    "x_test_multi_ls = []\n",
    "y_test_multi_ls = []\n",
    "\n",
    "for t in range(len(trgts)):\n",
    "\n",
    "    x = load_hdf5('datasets/' + trgts[t] + 'Act_orig.hdf5')\n",
    "    x_train_multi, x_test_multi, y_train_multi, y_test_multi = [x['train_img'], x['test_img'], x['train_labels'], x['test_labels']]\n",
    "    \n",
    "    y_temp = np.zeros((y_train_multi.shape[0], max_num_target, num_class))\n",
    "    for i in range(len(y_train_multi)):\n",
    "        y_temp[i, :len(y_train_multi[i]), :] = y_train_multi[i]\n",
    "    y_train_multi = y_temp\n",
    "\n",
    "    y_temp = np.zeros((y_test_multi.shape[0], max_num_target, num_class))\n",
    "    for i in range(len(y_test_multi)):\n",
    "        y_temp[i, :len(y_test_multi[i]), :] = y_test_multi[i]\n",
    "    y_test_multi = y_temp\n",
    "\n",
    "    x_test_multi_ls.append(np.concatenate([x_train_multi, x_test_multi], 0))\n",
    "    y_test_multi_ls.append(np.concatenate([y_train_multi, y_test_multi], 0))\n",
    "\n",
    "x_test_multi_ls = np.concatenate([x_test_multi_ls[0], x_test_multi_ls[1]], 0)\n",
    "y_test_multi_ls = np.concatenate([y_test_multi_ls[0], y_test_multi_ls[1]], 0)\n",
    "print('Data shapes:')\n",
    "# print(x_train_multi.shape)\n",
    "# print(y_train_multi.shape)\n",
    "print(x_test_multi_ls.shape)\n",
    "print(y_test_multi_ls.shape)"
   ]
  },
  {
   "cell_type": "code",
   "execution_count": null,
   "metadata": {},
   "outputs": [],
   "source": [
    "pred_dataset_multi = data_generator_pred(x_test_multi_ls, y_test_multi_ls)\n",
    "preds = np.array([np.squeeze(nn2.predict(next(pred_dataset_multi))) for i in tqdm(range(len(y_test_multi_ls)), position=0)])\n",
    "preds.shape"
   ]
  },
  {
   "cell_type": "code",
   "execution_count": null,
   "metadata": {},
   "outputs": [],
   "source": [
    "# compute accuracy\n",
    "\n",
    "correct = 0\n",
    "wrong = 0\n",
    "\n",
    "for i in range(len(y_test_multi_ls)):\n",
    "    for j in range(len(y_test_multi_ls[i])):\n",
    "        if sum(y_test_multi_ls[i][j]) != 0 or sum(preds[i][j]) > 0.5: # if there is target\n",
    "            if np.argmax(y_test_multi_ls[i][j]) == np.argmax(preds[i][j]):\n",
    "                if y_test_multi_ls[i][j][0] == 1 and preds[i][j][0] < 0.5:\n",
    "                    wrong += 1\n",
    "                else:\n",
    "                    correct += 1\n",
    "            else:\n",
    "                wrong += 1\n",
    "acc = correct / (correct + wrong) * 100\n",
    "print('Acc:', round(acc,2), '%, correct:', correct, ', wrong:', wrong)"
   ]
  },
  {
   "cell_type": "code",
   "execution_count": null,
   "metadata": {},
   "outputs": [],
   "source": []
  },
  {
   "cell_type": "markdown",
   "metadata": {},
   "source": [
    "## Test on known proj synthetic"
   ]
  },
  {
   "cell_type": "code",
   "execution_count": null,
   "metadata": {},
   "outputs": [],
   "source": [
    "# data\n",
    "\n",
    "trgts = ['two', 'three']\n",
    "x_test_multi_ls = []\n",
    "y_test_multi_ls = []\n",
    "\n",
    "for t in range(len(trgts)):\n",
    "\n",
    "    x = load_hdf5('datasets/' + trgts[t] + 'Act.hdf5')\n",
    "    x_train_multi, x_test_multi, y_train_multi, y_test_multi = [x['train_img'], x['test_img'], x['train_labels'], x['test_labels']]\n",
    "    \n",
    "    y_temp = np.zeros((y_train_multi.shape[0], max_num_target, num_class))\n",
    "    for i in range(len(y_train_multi)):\n",
    "        y_temp[i, 0, :] = y_train_multi[i]\n",
    "    y_train_multi = y_temp\n",
    "\n",
    "    y_temp = np.zeros((y_test_multi.shape[0], max_num_target, num_class))\n",
    "    for i in range(len(y_test_multi)):\n",
    "        y_temp[i, 0, :] = y_test_multi[i]\n",
    "    y_test_multi = y_temp\n",
    "\n",
    "    x_test_multi_ls.append(np.concatenate([x_train_multi, x_test_multi], 0))\n",
    "    y_test_multi_ls.append(np.concatenate([y_train_multi, y_test_multi], 0))\n",
    "\n",
    "x_test_multi_ls = np.concatenate([x_test_multi_ls[0], x_test_multi_ls[1]], 0)\n",
    "y_test_multi_ls = np.concatenate([y_test_multi_ls[0], y_test_multi_ls[1]], 0)\n",
    "print('Data shapes:')\n",
    "# print(x_train_multi.shape)\n",
    "# print(y_train_multi.shape)\n",
    "print(x_test_multi_ls.shape)\n",
    "print(y_test_multi_ls.shape)"
   ]
  },
  {
   "cell_type": "code",
   "execution_count": null,
   "metadata": {},
   "outputs": [],
   "source": [
    "pred_dataset_multi = data_generator_pred(x_test_multi_ls, y_test_multi_ls)\n",
    "preds = np.array([np.squeeze(nn2.predict(next(pred_dataset_multi))) for i in tqdm(range(len(y_test_multi_ls)), position=0)])\n",
    "preds.shape"
   ]
  },
  {
   "cell_type": "code",
   "execution_count": null,
   "metadata": {},
   "outputs": [],
   "source": [
    "# compute accuracy\n",
    "\n",
    "correct = 0\n",
    "wrong = 0\n",
    "\n",
    "for i in range(len(y_test_multi_ls)):\n",
    "    for j in range(len(y_test_multi_ls[i])):\n",
    "        if sum(y_test_multi_ls[i][j]) != 0 or sum(preds[i][j]) > 0.5: # if there is target\n",
    "            if np.argmax(y_test_multi_ls[i][j]) == np.argmax(preds[i][j]):\n",
    "                if y_test_multi_ls[i][j][0] == 1 and preds[i][j][0] < 0.5:\n",
    "                    wrong += 1\n",
    "                else:\n",
    "                    correct += 1\n",
    "            else:\n",
    "                wrong += 1\n",
    "acc = correct / (correct + wrong) * 100\n",
    "print('Acc:', round(acc,2), '%, correct:', correct, ', wrong:', wrong)"
   ]
  },
  {
   "cell_type": "code",
   "execution_count": null,
   "metadata": {},
   "outputs": [],
   "source": []
  },
  {
   "cell_type": "markdown",
   "metadata": {},
   "source": [
    "## Test on estimated proj multi-target"
   ]
  },
  {
   "cell_type": "code",
   "execution_count": null,
   "metadata": {
    "scrolled": true
   },
   "outputs": [],
   "source": [
    "# data\n",
    "\n",
    "ang_tol = [5, 10, 15, 20, 25, 30, 35, 40, 45]\n",
    "acc_ls = []\n",
    "correct_ls =[]\n",
    "wrong_ls = []\n",
    "\n",
    "for a in range(len(ang_tol)):\n",
    "    \n",
    "    x_test_multi_ls = []\n",
    "    y_test_multi_ls = []\n",
    "    \n",
    "    x = load_hdf5('datasets/est_projected_angtol' + str(ang_tol[a]) + '.hdf5')\n",
    "#     x_train_multi, x_test_multi, y_train_multi, y_test_multi = [x['train_img'], x['test_img'], x['train_labels'], x['test_labels']]\n",
    "    x_train_multi, y_train_multi = [x['train_img'], x['train_labels']]\n",
    "\n",
    "    y_temp = np.zeros((y_train_multi.shape[0], max_num_target, num_class))\n",
    "    for i in range(len(y_train_multi)):\n",
    "        y_temp[i, 0, :] = y_train_multi[i]\n",
    "    y_train_multi = y_temp\n",
    "\n",
    "#     y_temp = np.zeros((y_test_multi.shape[0], max_num_target, num_class))\n",
    "#     for i in range(len(y_test_multi)):\n",
    "#         y_temp[i, :len(y_test_multi[i]), :] = y_test_multi[i]\n",
    "#     y_test_multi = y_temp\n",
    "\n",
    "#     x_test_multi_ls.append(np.concatenate([x_train_multi, x_test_multi], 0))\n",
    "#     y_test_multi_ls.append(np.concatenate([y_train_multi, y_test_multi], 0))\n",
    "\n",
    "#     x_test_multi_ls = np.concatenate([x_test_multi_ls[0], x_test_multi_ls[1]], 0)\n",
    "#     y_test_multi_ls = np.concatenate([y_test_multi_ls[0], y_test_multi_ls[1]], 0)\n",
    "    \n",
    "    x_test_multi_ls = x_train_multi\n",
    "    y_test_multi_ls = y_train_multi\n",
    "    \n",
    "    print('Data shapes for ang_tol:', ang_tol[a])\n",
    "    # print(x_train_multi.shape)\n",
    "    # print(y_train_multi.shape)\n",
    "    print(x_test_multi_ls.shape)\n",
    "    print(y_test_multi_ls.shape)\n",
    "    \n",
    "    pred_dataset_multi = data_generator_pred(x_test_multi_ls, y_test_multi_ls)\n",
    "    preds = np.array([np.squeeze(nn2.predict(next(pred_dataset_multi))) for i in range(len(y_test_multi_ls))])\n",
    "    print(preds.shape)\n",
    "    \n",
    "    # compute accuracy\n",
    "    correct = 0\n",
    "    wrong = 0\n",
    "\n",
    "    for i in range(len(y_test_multi_ls)):\n",
    "        for j in range(len(y_test_multi_ls[i])):\n",
    "            if sum(y_test_multi_ls[i][j]) != 0 or sum(preds[i][j]) > 0.5: # if there is target\n",
    "                if np.argmax(y_test_multi_ls[i][j]) == np.argmax(preds[i][j]):\n",
    "                    if y_test_multi_ls[i][j][0] == 1 and preds[i][j][0] < 0.5:\n",
    "                        wrong += 1\n",
    "                    else:\n",
    "                        correct += 1\n",
    "                else:\n",
    "                    wrong += 1\n",
    "    acc = correct / (correct + wrong) * 100\n",
    "    acc_ls.append(acc)\n",
    "    correct_ls.append(correct)\n",
    "    wrong_ls.append(wrong)\n",
    "    print('Acc:', round(acc,2), '%, correct:', correct, ', wrong:', wrong, '\\n\\n')"
   ]
  },
  {
   "cell_type": "code",
   "execution_count": null,
   "metadata": {},
   "outputs": [],
   "source": [
    "plt.plot(ang_tol, acc_ls)"
   ]
  },
  {
   "cell_type": "markdown",
   "metadata": {},
   "source": [
    "# Test on known synth projected different num_elem"
   ]
  },
  {
   "cell_type": "code",
   "execution_count": null,
   "metadata": {},
   "outputs": [],
   "source": [
    "num_elem = [4, 16, 32, 72, 86]\n",
    "acc_ls = []\n",
    "wrong_ls = []\n",
    "correct_ls = []\n",
    "\n",
    "for n in range(len(num_elem)):\n",
    "\n",
    "    x = load_hdf5('datasets/projected_numelem' + str(num_elem[n]) + '.hdf5')\n",
    "    x_train_multi, x_test_multi, y_train_multi, y_test_multi = [x['train_img'], x['test_img'], x['train_labels'], x['test_labels']]\n",
    "    \n",
    "    y_temp = np.zeros((y_train_multi.shape[0], max_num_target, num_class))\n",
    "    for i in range(len(y_train_multi)):\n",
    "        y_temp[i, 0, :] = y_train_multi[i]\n",
    "    y_train_multi = y_temp\n",
    "\n",
    "    y_temp = np.zeros((y_test_multi.shape[0], max_num_target, num_class))\n",
    "    for i in range(len(y_test_multi)):\n",
    "        y_temp[i, 0, :] = y_test_multi[i]\n",
    "    y_test_multi = y_temp\n",
    "\n",
    "    x_test_multi = np.concatenate([x_train_multi, x_test_multi], 0)\n",
    "    y_test_multi = np.concatenate([y_train_multi, y_test_multi], 0)\n",
    "    \n",
    "    pred_dataset_multi = data_generator_pred(x_test_multi, y_test_multi)\n",
    "    preds = np.array([np.squeeze(nn2.predict(next(pred_dataset_multi))) for i in range(len(y_test_multi))])\n",
    "    print(preds.shape)\n",
    "    \n",
    "    # compute accuracy\n",
    "    correct = 0\n",
    "    wrong = 0\n",
    "\n",
    "    for i in range(len(y_test_multi)):\n",
    "        for j in range(len(y_test_multi[i])):\n",
    "            if sum(y_test_multi[i][j]) != 0 or sum(preds[i][j]) > 0.5: # if there is target\n",
    "                if np.argmax(y_test_multi[i][j]) == np.argmax(preds[i][j]):\n",
    "                    if y_test_multi[i][j][0] == 1 and preds[i][j][0] < 0.5:\n",
    "                        wrong += 1\n",
    "                    else:\n",
    "                        correct += 1\n",
    "                else:\n",
    "                    wrong += 1\n",
    "    acc = correct / (correct + wrong) * 100\n",
    "    acc_ls.append(acc)\n",
    "    correct_ls.append(correct)\n",
    "    wrong_ls.append(wrong)\n",
    "    print('Acc:', round(acc,2), '%, correct:', correct, ', wrong:', wrong, '\\n\\n')"
   ]
  },
  {
   "cell_type": "code",
   "execution_count": null,
   "metadata": {},
   "outputs": [],
   "source": []
  },
  {
   "cell_type": "code",
   "execution_count": null,
   "metadata": {},
   "outputs": [],
   "source": []
  },
  {
   "cell_type": "code",
   "execution_count": null,
   "metadata": {},
   "outputs": [],
   "source": []
  },
  {
   "cell_type": "code",
   "execution_count": null,
   "metadata": {},
   "outputs": [],
   "source": []
  },
  {
   "cell_type": "code",
   "execution_count": null,
   "metadata": {},
   "outputs": [],
   "source": []
  },
  {
   "cell_type": "code",
   "execution_count": null,
   "metadata": {},
   "outputs": [],
   "source": []
  }
 ],
 "metadata": {
  "kernelspec": {
   "display_name": "Python 3",
   "language": "python",
   "name": "python3"
  },
  "language_info": {
   "codemirror_mode": {
    "name": "ipython",
    "version": 3
   },
   "file_extension": ".py",
   "mimetype": "text/x-python",
   "name": "python",
   "nbconvert_exporter": "python",
   "pygments_lexer": "ipython3",
   "version": "3.7.2"
  }
 },
 "nbformat": 4,
 "nbformat_minor": 2
}
