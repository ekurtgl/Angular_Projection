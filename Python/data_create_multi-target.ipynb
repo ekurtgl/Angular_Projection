{
 "cells": [
  {
   "cell_type": "code",
   "execution_count": 1,
   "metadata": {},
   "outputs": [
    {
     "name": "stdout",
     "output_type": "stream",
     "text": [
      "File to be created: datasets/multi_target.pkl\n"
     ]
    }
   ],
   "source": [
    "from random import shuffle\n",
    "import glob, h5py, pickle, cv2\n",
    "import numpy as np\n",
    "from IPython.display import clear_output\n",
    "from pandas import read_csv\n",
    "from tensorflow.keras.utils import to_categorical\n",
    "from sklearn.model_selection import train_test_split\n",
    "from collections import Counter\n",
    "width = 128\n",
    "height = 128\n",
    "channels = 3\n",
    "trainpath = '/mnt/HDD04/Projection_data/OUTPUTS/Cascade_AWR2243/microDoppler/*.png'\n",
    "sub = 'multi_target'\n",
    "filename = 'datasets/'+sub+'.pkl'\n",
    "print('File to be created: ' + filename)"
   ]
  },
  {
   "cell_type": "code",
   "execution_count": 2,
   "metadata": {},
   "outputs": [
    {
     "name": "stdout",
     "output_type": "stream",
     "text": [
      "679\n",
      "Num. of files: 21\n",
      "1./mnt/HDD04/Projection_data/OUTPUTS/Cascade_AWR2243/microDoppler/pCemreRonyShobbo_class1-1-2_ang-45+45-0_iter1.png\n",
      "2./mnt/HDD04/Projection_data/OUTPUTS/Cascade_AWR2243/microDoppler/pCemreRonyShobbo_class1-1-2_ang-45+45-0_iter2.png\n",
      "3./mnt/HDD04/Projection_data/OUTPUTS/Cascade_AWR2243/microDoppler/pCemreRonyShobbo_class1-1-2_ang-45+45-0_iter3.png\n",
      "4./mnt/HDD04/Projection_data/OUTPUTS/Cascade_AWR2243/microDoppler/pCemreRonyShobbo_class1-1-6_ang-45+45-0_iter1.png\n",
      "5./mnt/HDD04/Projection_data/OUTPUTS/Cascade_AWR2243/microDoppler/pCemreRonyShobbo_class1-1-6_ang-45+45-0_iter2.png\n",
      "6./mnt/HDD04/Projection_data/OUTPUTS/Cascade_AWR2243/microDoppler/pCemreRonyShobbo_class1-1-6_ang-45+45-0_iter3.png\n",
      "7./mnt/HDD04/Projection_data/OUTPUTS/Cascade_AWR2243/microDoppler/pCemreRony_class1-1_ang+45-45_iter1.png\n",
      "8./mnt/HDD04/Projection_data/OUTPUTS/Cascade_AWR2243/microDoppler/pCemreRony_class1-1_ang+45-45_iter2.png\n",
      "9./mnt/HDD04/Projection_data/OUTPUTS/Cascade_AWR2243/microDoppler/pCemreRony_class1-1_ang+45-45_iter3.png\n",
      "10./mnt/HDD04/Projection_data/OUTPUTS/Cascade_AWR2243/microDoppler/pCemreRony_class1-1_ang+45-45_iter4.png\n",
      "11./mnt/HDD04/Projection_data/OUTPUTS/Cascade_AWR2243/microDoppler/pCemreRony_class1-2_ang+45-0_iter1.png\n",
      "12./mnt/HDD04/Projection_data/OUTPUTS/Cascade_AWR2243/microDoppler/pCemreRony_class1-2_ang+45-0_iter2.png\n",
      "13./mnt/HDD04/Projection_data/OUTPUTS/Cascade_AWR2243/microDoppler/pCemreRony_class1-2_ang+45-0_iter3.png\n",
      "14./mnt/HDD04/Projection_data/OUTPUTS/Cascade_AWR2243/microDoppler/pCemreRony_class1-2_ang+45-0_iter4.png\n",
      "15./mnt/HDD04/Projection_data/OUTPUTS/Cascade_AWR2243/microDoppler/pCemreRony_class1-2_ang+45-45_iter1.png\n",
      "16./mnt/HDD04/Projection_data/OUTPUTS/Cascade_AWR2243/microDoppler/pCemreRony_class1-2_ang+45-45_iter2.png\n",
      "17./mnt/HDD04/Projection_data/OUTPUTS/Cascade_AWR2243/microDoppler/pCemreRony_class1-2_ang+45-45_iter3.png\n",
      "18./mnt/HDD04/Projection_data/OUTPUTS/Cascade_AWR2243/microDoppler/pCemreRony_class6-1_ang0+45_iter1.png\n",
      "19./mnt/HDD04/Projection_data/OUTPUTS/Cascade_AWR2243/microDoppler/pCemreRony_class6-1_ang0+45_iter2.png\n",
      "20./mnt/HDD04/Projection_data/OUTPUTS/Cascade_AWR2243/microDoppler/pCemreRony_class6-1_ang0+45_iter3.png\n",
      "21./mnt/HDD04/Projection_data/OUTPUTS/Cascade_AWR2243/microDoppler/pCemreRony_class6-1_ang0+45_iter4.png\n"
     ]
    }
   ],
   "source": [
    "# load single act images\n",
    "train_files2 = sorted(glob.glob(trainpath))\n",
    "print(len(train_files2))\n",
    "train_files = []\n",
    "fname_ls = []\n",
    "multi_angs_ls = []\n",
    "for i, file in enumerate(train_files2):\n",
    "    \n",
    "    fname = train_files2[i].split('/')[-1]\n",
    "#     print(train_files2[i])\n",
    "    angles = fname.split('_')[2][3:]\n",
    "    plusses = angles.rfind('+')\n",
    "    minuses = angles.rfind('-')\n",
    "\n",
    "    if plusses == -1 and minuses == -1:\n",
    "        continue\n",
    "        all_ang_ids = int(angles)\n",
    "        angs = all_ang_ids\n",
    "    elif plusses == -1 and minuses != -1:\n",
    "        all_ang_ids = sorted([minuses, len(angles)+1])\n",
    "    elif plusses != -1 and minuses == -1:\n",
    "        all_ang_ids = sorted([plusses, len(angles)+1])\n",
    "    else:\n",
    "        all_ang_ids = sorted([plusses, minuses, len(angles)+1])\n",
    "\n",
    "    if isinstance(all_ang_ids, list):\n",
    "        if all_ang_ids[0] == 0:\n",
    "            angs = np.zeros((len(all_ang_ids) - 1,), dtype=int)\n",
    "            for i in range(len(all_ang_ids) - 1):\n",
    "                angs[i] = int(angles[all_ang_ids[i]:all_ang_ids[i+1]]) # .astype(int)\n",
    "        else:\n",
    "            angs = np.zeros((len(all_ang_ids),), dtype=int)\n",
    "            angs[0] = int(angles[:all_ang_ids[0]])\n",
    "            for i in range(len(all_ang_ids) - 1):\n",
    "                angs[i+1] = int(angles[all_ang_ids[i]:all_ang_ids[i+1]]) # .astype(int)\n",
    "              \n",
    "    if len(angs) == 1:\n",
    "        continue\n",
    "    \n",
    "    multi_angs_ls.append(angs) \n",
    "#     print(file)\n",
    "    train_files.append(file)\n",
    "print('Num. of files: '+str(len(train_files)))\n",
    "for i in range(len(train_files)):    \n",
    "    print(str(i+1)+'.'+train_files[i])"
   ]
  },
  {
   "cell_type": "code",
   "execution_count": 3,
   "metadata": {},
   "outputs": [
    {
     "name": "stdout",
     "output_type": "stream",
     "text": [
      "Loading training labels #21\n",
      "(21,)\n"
     ]
    }
   ],
   "source": [
    "labels = []\n",
    "files = []\n",
    "class_ls = []\n",
    "cnt = 1\n",
    "for i, file in enumerate(train_files):\n",
    "    clear_output(wait=True)\n",
    "    print('Loading training labels #'+str(cnt))\n",
    "    fname = file.split('/')[-1]\n",
    "    classes = [int(i)-1 if i != '6' else 2 for i in fname.split('_')[1][5:].split('-')]\n",
    "    class_ls.append(classes)\n",
    "    labels.append(classes)\n",
    "    files.append(file)\n",
    "    cnt += 1\n",
    "    \n",
    "labels = np.array(labels)\n",
    "print(labels.shape)"
   ]
  },
  {
   "cell_type": "code",
   "execution_count": 4,
   "metadata": {},
   "outputs": [
    {
     "name": "stdout",
     "output_type": "stream",
     "text": [
      "[0, 0, 1]\n",
      "[0, 0, 1]\n",
      "[0, 0, 1]\n",
      "[0, 0, 2]\n",
      "[0, 0, 2]\n",
      "[0, 0, 2]\n",
      "[0, 0]\n",
      "[0, 0]\n",
      "[0, 0]\n",
      "[0, 0]\n",
      "[0, 1]\n",
      "[0, 1]\n",
      "[0, 1]\n",
      "[0, 1]\n",
      "[0, 1]\n",
      "[0, 1]\n",
      "[0, 1]\n",
      "[2, 0]\n",
      "[2, 0]\n",
      "[2, 0]\n",
      "[2, 0]\n"
     ]
    }
   ],
   "source": [
    "for i in labels:\n",
    "    print(i)"
   ]
  },
  {
   "cell_type": "code",
   "execution_count": 5,
   "metadata": {},
   "outputs": [
    {
     "name": "stdout",
     "output_type": "stream",
     "text": [
      "Loading image 21/21 /mnt/HDD04/Projection_data/OUTPUTS/Cascade_AWR2243/microDoppler/pCemreRony_class6-1_ang0+45_iter4.png\n"
     ]
    },
    {
     "data": {
      "text/plain": [
       "(21, 128, 128, 3)"
      ]
     },
     "execution_count": 5,
     "metadata": {},
     "output_type": "execute_result"
    }
   ],
   "source": [
    "cnt = 1\n",
    "images = []\n",
    "\n",
    "for image in files:\n",
    "    img = cv2.imread(image)\n",
    "    img = cv2.resize(img, (width, height), interpolation=cv2.INTER_CUBIC)# resize to (128,128)\n",
    "    img = cv2.cvtColor(img, cv2.COLOR_BGR2RGB) # cv2 load images as BGR, convert it to RGB\n",
    "    clear_output(wait=True)\n",
    "    print('Loading image '+str(cnt)+'/'+str(len(files))+ ' '+image)\n",
    "    images.append(img)  \n",
    "    cnt += 1\n",
    "    \n",
    "images = np.swapaxes(np.array(images), 1, 2).reshape(len(files), width, height, channels)/255.\n",
    "images.shape"
   ]
  },
  {
   "cell_type": "code",
   "execution_count": 6,
   "metadata": {},
   "outputs": [
    {
     "name": "stdout",
     "output_type": "stream",
     "text": [
      "(16, 128, 128, 3)\n",
      "(16,)\n",
      "(5, 128, 128, 3)\n",
      "(5,)\n"
     ]
    }
   ],
   "source": [
    "x_train, x_test, y_train, y_test = train_test_split(images, labels, test_size=0.2, random_state=1)\n",
    "\n",
    "print(x_train.shape)\n",
    "print(y_train.shape)\n",
    "print(x_test.shape)\n",
    "print(y_test.shape)"
   ]
  },
  {
   "cell_type": "code",
   "execution_count": 7,
   "metadata": {},
   "outputs": [
    {
     "name": "stdout",
     "output_type": "stream",
     "text": [
      "datasets/multi_target.pkl created.\n"
     ]
    }
   ],
   "source": [
    "data = [x_train, x_test, y_train, y_test]\n",
    "with open(filename, 'wb') as output:  # Overwrites any existing file.\n",
    "        pickle.dump(data, output, pickle.HIGHEST_PROTOCOL)\n",
    "print(filename+' created.')"
   ]
  },
  {
   "cell_type": "code",
   "execution_count": null,
   "metadata": {},
   "outputs": [],
   "source": []
  },
  {
   "cell_type": "code",
   "execution_count": null,
   "metadata": {},
   "outputs": [],
   "source": []
  },
  {
   "cell_type": "code",
   "execution_count": null,
   "metadata": {},
   "outputs": [],
   "source": []
  }
 ],
 "metadata": {
  "kernelspec": {
   "display_name": "Python 3",
   "language": "python",
   "name": "python3"
  },
  "language_info": {
   "codemirror_mode": {
    "name": "ipython",
    "version": 3
   },
   "file_extension": ".py",
   "mimetype": "text/x-python",
   "name": "python",
   "nbconvert_exporter": "python",
   "pygments_lexer": "ipython3",
   "version": "3.7.3"
  }
 },
 "nbformat": 4,
 "nbformat_minor": 2
}
