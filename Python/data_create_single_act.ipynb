{
 "cells": [
  {
   "cell_type": "code",
   "execution_count": 1,
   "metadata": {},
   "outputs": [
    {
     "name": "stdout",
     "output_type": "stream",
     "text": [
      "File to be created: datasets/single_act.hdf5\n"
     ]
    }
   ],
   "source": [
    "from random import shuffle\n",
    "import glob, h5py, cv2\n",
    "import numpy as np\n",
    "from IPython.display import clear_output\n",
    "from pandas import read_csv\n",
    "from tensorflow.keras.utils import to_categorical\n",
    "from sklearn.model_selection import train_test_split\n",
    "from collections import Counter\n",
    "width = 128\n",
    "height = 128\n",
    "channels = 3\n",
    "trainpath = '/mnt/HDD04/Projection_data/OUTPUTS/Cascade_AWR2243/microDoppler/*.png'\n",
    "sub = 'single_act'\n",
    "filename = 'datasets/'+sub+'.hdf5'\n",
    "print('File to be created: ' + filename)"
   ]
  },
  {
   "cell_type": "code",
   "execution_count": 20,
   "metadata": {},
   "outputs": [
    {
     "name": "stdout",
     "output_type": "stream",
     "text": [
      "679\n",
      "Num. of files: 658\n",
      "1. /mnt/HDD04/Projection_data/OUTPUTS/Cascade_AWR2243/microDoppler/pAhmed_class10_ang0_iter1.png\n",
      "2. /mnt/HDD04/Projection_data/OUTPUTS/Cascade_AWR2243/microDoppler/pAhmed_class10_ang0_iter2.png\n",
      "3. /mnt/HDD04/Projection_data/OUTPUTS/Cascade_AWR2243/microDoppler/pAhmed_class10_ang0_iter3.png\n",
      "4. /mnt/HDD04/Projection_data/OUTPUTS/Cascade_AWR2243/microDoppler/pAhmed_class15_ang0_iter1.png\n",
      "5. /mnt/HDD04/Projection_data/OUTPUTS/Cascade_AWR2243/microDoppler/pAhmed_class15_ang0_iter2.png\n"
     ]
    }
   ],
   "source": [
    "# load single act images\n",
    "train_files2 = sorted(glob.glob(trainpath))\n",
    "print(len(train_files2))\n",
    "train_files = []\n",
    "fname_ls = []\n",
    "sing_angs_ls = []\n",
    "for i, file in enumerate(train_files2):\n",
    "    \n",
    "    fname = train_files2[i].split('/')[-1]\n",
    "#     print(train_files2[i])\n",
    "    angles = fname.split('_')[2][3:]\n",
    "    plusses = angles.rfind('+')\n",
    "    minuses = angles.rfind('-')\n",
    "\n",
    "    if plusses == -1 and minuses == -1:\n",
    "        all_ang_ids = int(angles)\n",
    "        angs = all_ang_ids\n",
    "    elif plusses == -1 and minuses != -1:\n",
    "        all_ang_ids = sorted([minuses, len(angles)+1])\n",
    "    elif plusses != -1 and minuses == -1:\n",
    "        all_ang_ids = sorted([plusses, len(angles)+1])\n",
    "    else:\n",
    "        all_ang_ids = sorted([plusses, minuses, len(angles)+1])\n",
    "\n",
    "    if isinstance(all_ang_ids, list):\n",
    "        if all_ang_ids[0] == 0:\n",
    "            angs = np.zeros((len(all_ang_ids) - 1,), dtype=int)\n",
    "            for i in range(len(all_ang_ids) - 1):\n",
    "                angs[i] = int(angles[all_ang_ids[i]:all_ang_ids[i+1]]) # .astype(int)\n",
    "        else:\n",
    "            angs = np.zeros((len(all_ang_ids),), dtype=int)\n",
    "            angs[0] = int(angles[:all_ang_ids[0]])\n",
    "            for i in range(len(all_ang_ids) - 1):\n",
    "                angs[i+1] = int(angles[all_ang_ids[i]:all_ang_ids[i+1]]) # .astype(int)\n",
    "              \n",
    "    if not isinstance(angs, int): # if multi-target\n",
    "        if len(angs) == 1:\n",
    "            angs = int(angs[0])\n",
    "        else:\n",
    "            continue\n",
    "    \n",
    "    sing_angs_ls.append(angs) \n",
    "#     print(file)\n",
    "    train_files.append(file)\n",
    "print('Num. of files: '+str(len(train_files)))\n",
    "for i in range(0,5):    \n",
    "    print(str(i+1)+'. '+train_files[i])"
   ]
  },
  {
   "cell_type": "code",
   "execution_count": 25,
   "metadata": {},
   "outputs": [
    {
     "name": "stdout",
     "output_type": "stream",
     "text": [
      "Loading training labels #476\n",
      "Orig classes [1, 2, 3, 4, 5, 6, 7, 13, 14]\n",
      "New classes: [0 1 2 3 4 5 6 7 8]\n",
      "(476, 9)\n"
     ]
    }
   ],
   "source": [
    "labels = []\n",
    "files = []\n",
    "class_ls = []\n",
    "orig_classes = [1,2,3,4,5,6,7,13,14]\n",
    "cnt = 1\n",
    "for i, file in enumerate(train_files):\n",
    "    clear_output(wait=True)\n",
    "    print('Loading training labels #'+str(cnt))\n",
    "    fname = file.split('/')[-1]\n",
    "    clas = int(fname.split('_')[1][5:])\n",
    "    class_ls.append(clas)\n",
    "    \n",
    "    if clas not in orig_classes:\n",
    "        continue\n",
    "    if clas == 13:\n",
    "        clas = 8\n",
    "    elif clas == 14:\n",
    "        clas = 9\n",
    "    clas -= 1\n",
    "    labels.append(clas)\n",
    "    files.append(file)\n",
    "    cnt += 1\n",
    "labels2 = np.array(labels)\n",
    "print('Orig classes', orig_classes)\n",
    "print('New classes:', np.unique(labels))\n",
    "labels = to_categorical(labels2)\n",
    "\n",
    "print(labels.shape)"
   ]
  },
  {
   "cell_type": "code",
   "execution_count": 26,
   "metadata": {},
   "outputs": [
    {
     "data": {
      "text/plain": [
       "Counter({0: 69, 1: 69, 4: 72, 5: 69, 6: 69, 7: 30, 8: 30, 2: 38, 3: 30})"
      ]
     },
     "execution_count": 26,
     "metadata": {},
     "output_type": "execute_result"
    }
   ],
   "source": [
    "Counter(labels2)"
   ]
  },
  {
   "cell_type": "code",
   "execution_count": 27,
   "metadata": {},
   "outputs": [
    {
     "name": "stdout",
     "output_type": "stream",
     "text": [
      "Loading image 476/476 /mnt/HDD04/Projection_data/OUTPUTS/Cascade_AWR2243/microDoppler/pSpot_class4_ang0_iter9.png\n"
     ]
    },
    {
     "data": {
      "text/plain": [
       "(476, 128, 128, 3)"
      ]
     },
     "execution_count": 27,
     "metadata": {},
     "output_type": "execute_result"
    }
   ],
   "source": [
    "cnt = 1\n",
    "images = []\n",
    "\n",
    "for image in files:\n",
    "    img = cv2.imread(image)\n",
    "    img = cv2.resize(img, (width, height), interpolation=cv2.INTER_CUBIC)# resize to (128,128)\n",
    "    img = cv2.cvtColor(img, cv2.COLOR_BGR2RGB) # cv2 load images as BGR, convert it to RGB\n",
    "    clear_output(wait=True)\n",
    "    print('Loading image '+str(cnt)+'/'+str(len(files))+ ' '+image)\n",
    "    images.append(img)  \n",
    "    cnt += 1\n",
    "    \n",
    "images = np.swapaxes(np.array(images), 1, 2).reshape(len(files), width, height, channels)/255.\n",
    "images.shape"
   ]
  },
  {
   "cell_type": "code",
   "execution_count": 29,
   "metadata": {},
   "outputs": [
    {
     "name": "stdout",
     "output_type": "stream",
     "text": [
      "(380, 128, 128, 3)\n",
      "(380, 9)\n",
      "(96, 128, 128, 3)\n",
      "(96, 9)\n"
     ]
    }
   ],
   "source": [
    "x_train, x_test, y_train, y_test = train_test_split(images, labels, test_size=0.2, random_state=1)\n",
    "\n",
    "print(x_train.shape)\n",
    "print(y_train.shape)\n",
    "print(x_test.shape)\n",
    "print(y_test.shape)"
   ]
  },
  {
   "cell_type": "code",
   "execution_count": 30,
   "metadata": {},
   "outputs": [
    {
     "name": "stdout",
     "output_type": "stream",
     "text": [
      "datasets/single_act.hdf5 created.\n"
     ]
    }
   ],
   "source": [
    "f = h5py.File(filename, mode='w')\n",
    "f.create_dataset(\"train_img\", x_train.shape, np.uint8)\n",
    "f.create_dataset(\"test_img\", x_test.shape, np.uint8)  \n",
    "f.create_dataset(\"train_labels\", y_train.shape, np.uint8)\n",
    "f.create_dataset(\"test_labels\", y_test.shape, np.uint8)\n",
    "\n",
    "f[\"train_img\"][...] = x_train\n",
    "f[\"test_img\"][...] = x_test\n",
    "f[\"train_labels\"][...] = y_train\n",
    "f[\"test_labels\"][...] = y_test\n",
    "f.close()\n",
    "print(filename+' created.')"
   ]
  },
  {
   "cell_type": "code",
   "execution_count": null,
   "metadata": {},
   "outputs": [],
   "source": []
  },
  {
   "cell_type": "code",
   "execution_count": null,
   "metadata": {},
   "outputs": [],
   "source": []
  },
  {
   "cell_type": "code",
   "execution_count": null,
   "metadata": {},
   "outputs": [],
   "source": []
  },
  {
   "cell_type": "code",
   "execution_count": null,
   "metadata": {},
   "outputs": [],
   "source": []
  }
 ],
 "metadata": {
  "kernelspec": {
   "display_name": "Python 3",
   "language": "python",
   "name": "python3"
  },
  "language_info": {
   "codemirror_mode": {
    "name": "ipython",
    "version": 3
   },
   "file_extension": ".py",
   "mimetype": "text/x-python",
   "name": "python",
   "nbconvert_exporter": "python",
   "pygments_lexer": "ipython3",
   "version": "3.8.10"
  }
 },
 "nbformat": 4,
 "nbformat_minor": 2
}
