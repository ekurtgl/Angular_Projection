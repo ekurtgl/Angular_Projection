{
 "cells": [
  {
   "cell_type": "code",
   "execution_count": 4,
   "metadata": {},
   "outputs": [
    {
     "name": "stderr",
     "output_type": "stream",
     "text": [
      "Using TensorFlow backend.\n"
     ]
    },
    {
     "name": "stdout",
     "output_type": "stream",
     "text": [
      "Num GPUs Available:  1\n"
     ]
    }
   ],
   "source": [
    "# %matplotlib inline\n",
    "import matplotlib.pyplot as plt\n",
    "import matplotlib.image as mpimg\n",
    "import tensorflow as tf\n",
    "import os, time\n",
    "# Create a MirroredStrateg, If Multi-GPU available\n",
    "os.environ['TF_FORCE_GPU_ALLOW_GROWTH'] = 'true' \n",
    "tf.config.set_soft_device_placement(True)\n",
    "# strategy = tf.distribute.MirroredStrategy(devices=['/gpu:1','/gpu:2']) \n",
    "# print('Number of GPUs being used: {}'.format(strategy.num_replicas_in_sync))\n",
    "from tensorflow.keras.preprocessing.image import ImageDataGenerator\n",
    "from tensorflow.keras.models import Sequential, Model, model_from_json\n",
    "from tensorflow.keras.optimizers import *\n",
    "from tensorflow.keras.layers import *\n",
    "from tensorflow.keras import regularizers\n",
    "from tensorflow.keras.callbacks import CSVLogger\n",
    "from tensorflow.keras.wrappers.scikit_learn import KerasClassifier\n",
    "from tensorflow.keras.applications import VGG16, ResNet50\n",
    "from tensorflow.keras.utils import to_categorical\n",
    "from sklearn.model_selection import train_test_split\n",
    "from sklearn.preprocessing import StandardScaler\n",
    "from livelossplot.keras import PlotLossesCallback\n",
    "from livelossplot import PlotLossesKerasTF\n",
    "from tensorflow.keras.callbacks import ReduceLROnPlateau\n",
    "from tqdm import tqdm\n",
    "# import efficientnet.keras as efn\n",
    "import h5py, glob, re, cv2, math, matplotlib, pickle, gc\n",
    "import tensorflow.keras as keras\n",
    "import pandas as pd\n",
    "from pandas import read_csv\n",
    "import numpy as np\n",
    "from scipy import stats\n",
    "import itertools, random\n",
    "from collections import Counter\n",
    "# from cnn_utils import *\n",
    "# from tensorflow.compat.v1 import ConfigProto\n",
    "# from tensorflow.compat.v1 import InteractiveSession\n",
    "from sklearn.metrics import classification_report, confusion_matrix\n",
    "from sklearn.utils import class_weight\n",
    "from PIL import Image  \n",
    "import pdb\n",
    "from statistics import mode \n",
    "from IPython.display import clear_output\n",
    "\n",
    "# config = ConfigProto()\n",
    "# config.gpu_options.allow_growth = True\n",
    "# session = InteractiveSession(config=config)\n",
    "\n",
    "np.random.seed(1)\n",
    "# Setting the seed for python random numbers\n",
    "random.seed(1254)\n",
    "# Setting the graph-level random seed.\n",
    "tf.random.set_seed(89)\n",
    "\n",
    "os.environ[\"CUDA_DEVICE_ORDER\"] = \"PCI_BUS_ID\"\n",
    "os.environ[\"CUDA_VISIBLE_DEVICES\"] = \"2\"\n",
    "!CUDA_VISIBLE_DEVICES=2\n",
    "\n",
    "# strategy = tf.distribute.MirroredStrategy(devices=['/gpu:1','/gpu:2'])\n",
    "# print('Number of GPUs being used: {}'.format(strategy.num_replicas_in_sync))\n",
    "# print('Number of GPUs being used: {}'.format(strategy.num_replicas_in_sync))\n",
    "# def setup_multi_node_training(): # IMPORTANT: SET UP TF_CONFIG FOR MULTINODE TRAINING HERE os.environ[“TF_FORCE_GPU_ALLOW_GROWTH”] = “true” tf.config.set_soft_device_placement(True) mirrored_strategy = tf.distribute.experimental.MultiWorkerMirroredStrategy(tf.distribute.experimental.CollectiveCommunication.NCCL) # Constructs the configuration run_config = tf.estimator.RunConfig( train_distribute=mirrored_strategy, ) return run_config\n",
    "print(\"Num GPUs Available: \", len(tf.config.experimental.list_physical_devices('GPU')))"
   ]
  },
  {
   "cell_type": "markdown",
   "metadata": {},
   "source": [
    "## Load data"
   ]
  },
  {
   "cell_type": "code",
   "execution_count": 5,
   "metadata": {},
   "outputs": [
    {
     "name": "stdout",
     "output_type": "stream",
     "text": [
      "(404, 128, 128, 24)\n",
      "(98, 128, 128, 24)\n",
      "(404, 10)\n",
      "(98, 10)\n"
     ]
    }
   ],
   "source": [
    "subj = '8 rdc' # '8 rdc', 'orig', '8ch'\n",
    "subj = '8ch' # '8 rdc', 'orig', '8ch'\n",
    "filename = 'ASL_Datasets/'+subj+'_spec_128_final.pkl'\n",
    "# filename = 'ASL_Datasets/'+subj+'_spec_128_resized_final.pkl'\n",
    "# filename = '../Datasets/'+subj+'_spec_128_zeropad.pkl'\n",
    "with open(filename, 'rb') as input:\n",
    "    x = pickle.load(input)\n",
    "x_orig_tr, x_orig_ts, y_tr, y_ts = [x[0], x[1], x[2], x[3]]\n",
    "\n",
    "y_tr_temp = [y_tr[i] for i in range(len(y_tr)) if y_tr[i] in list(range(11))] \n",
    "x_tr_temp = [x_orig_tr[i] for i in range(len(y_tr)) if y_tr[i] in list(range(11))] \n",
    "y_ts_temp = [y_ts[i] for i in range(len(y_ts)) if y_ts[i] in list(range(11))] \n",
    "x_ts_temp = [x_orig_ts[i] for i in range(len(y_ts)) if y_ts[i] in list(range(11))] \n",
    "\n",
    "x_orig_tr = np.array(x_tr_temp)\n",
    "x_orig_ts = np.array(x_ts_temp)\n",
    "\n",
    "y_tr = to_categorical(np.array(y_tr_temp)-1)\n",
    "y_ts = to_categorical(np.array(y_ts_temp)-1)\n",
    "\n",
    "print(x_orig_tr.shape)\n",
    "print(x_orig_ts.shape)\n",
    "print(y_tr.shape)\n",
    "print(y_ts.shape)"
   ]
  },
  {
   "cell_type": "code",
   "execution_count": 6,
   "metadata": {},
   "outputs": [
    {
     "name": "stdout",
     "output_type": "stream",
     "text": [
      "(404, 2)\n",
      "(98, 2)\n",
      "Counter({1: 274, 0: 130})\n"
     ]
    }
   ],
   "source": [
    "# single vs one handed\n",
    "singles = [0,1,3,11]  \n",
    "y_tr_hand = [1 if v not in singles else 0 for i, v in enumerate(np.argmax(y_tr,-1))]\n",
    "y_ts_hand = [1 if v not in singles else 0 for i, v in enumerate(np.argmax(y_ts,-1))]\n",
    "\n",
    "y_tr_hand = to_categorical(np.array(y_tr_hand))\n",
    "y_ts_hand = to_categorical(np.array(y_ts_hand)) \n",
    "print(y_tr_hand.shape)\n",
    "print(y_ts_hand.shape)\n",
    "print(Counter(np.argmax(y_tr_hand,-1)))"
   ]
  },
  {
   "cell_type": "code",
   "execution_count": 7,
   "metadata": {
    "scrolled": false
   },
   "outputs": [],
   "source": [
    "# plt.figure(dpi=150)\n",
    "# plt.imshow(x_orig_tr[0,:,:,0]*255)\n",
    "# plt.savefig('zeropadded.png')\n",
    "# # fig = plt.gcf()"
   ]
  },
  {
   "cell_type": "code",
   "execution_count": 8,
   "metadata": {},
   "outputs": [
    {
     "name": "stdout",
     "output_type": "stream",
     "text": [
      "(404, 128, 128, 24)\n",
      "(98, 128, 128, 24)\n",
      "(404, 128, 128, 24)\n",
      "(98, 128, 128, 24)\n",
      "(404, 128, 128, 24)\n",
      "(98, 128, 128, 24)\n",
      "(404, 128, 128, 24)\n",
      "(98, 128, 128, 24)\n"
     ]
    }
   ],
   "source": [
    "# subj = '0 60 left'\n",
    "subj = '0 60 left 8ch'\n",
    "filename = 'ASL_Datasets/'+subj+'_spec_128_final.pkl'\n",
    "with open(filename, 'rb') as input:\n",
    "    x = pickle.load(input)\n",
    "x_060left_tr, x_060left_ts, y_tr2, y_ts2 = [x[0], x[1], x[2], x[3]]\n",
    "# y_tr2, y_ts2 = [to_categorical(x[2]-1), to_categorical(x[3]-1)]\n",
    "\n",
    "\n",
    "y_tr_temp = [y_tr2[i] for i in range(len(y_tr2)) if y_tr2[i] in list(range(11))]\n",
    "y_ts_temp = [y_ts2[i] for i in range(len(y_ts2)) if y_ts2[i] in list(range(11))]\n",
    "x_tr_temp = [x_060left_tr[i] for i in range(len(y_tr2)) if y_tr2[i] in list(range(11))]\n",
    "x_ts_temp = [x_060left_ts[i] for i in range(len(y_ts2)) if y_ts2[i] in list(range(11))]\n",
    "\n",
    "x_060left_tr = np.array(x_tr_temp)\n",
    "x_060left_ts = np.array(x_ts_temp)\n",
    "\n",
    "print(x_060left_tr.shape)\n",
    "print(x_060left_ts.shape)\n",
    "\n",
    "# subj = '0 60 right'\n",
    "subj = '0 60 right 8ch'\n",
    "filename = 'ASL_Datasets/'+subj+'_spec_128_final.pkl'\n",
    "with open(filename, 'rb') as input:\n",
    "    x = pickle.load(input)\n",
    "x_060right_tr, x_060right_ts = [x[0], x[1]]\n",
    "\n",
    "x_tr_temp = [x_060right_tr[i] for i in range(len(y_tr2)) if y_tr2[i] in list(range(11))]\n",
    "x_ts_temp = [x_060right_ts[i] for i in range(len(y_ts2)) if y_ts2[i] in list(range(11))]\n",
    "\n",
    "x_060right_tr = np.array(x_tr_temp)\n",
    "x_060right_ts = np.array(x_ts_temp)\n",
    "\n",
    "print(x_060right_tr.shape)\n",
    "print(x_060right_ts.shape)\n",
    "\n",
    "# subj = '30 60 left'\n",
    "subj = '30 60 left 8ch'\n",
    "filename = 'ASL_Datasets/'+subj+'_spec_128_final.pkl'\n",
    "with open(filename, 'rb') as input:\n",
    "    x = pickle.load(input)\n",
    "x_3060left_tr, x_3060left_ts = [x[0], x[1]]\n",
    "\n",
    "x_tr_temp = [x_3060left_tr[i] for i in range(len(y_tr2)) if y_tr2[i] in list(range(11))]\n",
    "x_ts_temp = [x_3060left_ts[i] for i in range(len(y_ts2)) if y_ts2[i] in list(range(11))]\n",
    "\n",
    "x_3060left_tr = np.array(x_tr_temp)\n",
    "x_3060left_ts = np.array(x_ts_temp)\n",
    "\n",
    "print(x_3060left_tr.shape)\n",
    "print(x_3060left_ts.shape)\n",
    "\n",
    "# subj = '30 60 right'\n",
    "subj = '30 60 right 8ch'\n",
    "filename = 'ASL_Datasets/'+subj+'_spec_128_final.pkl'\n",
    "with open(filename, 'rb') as input:\n",
    "    x = pickle.load(input)\n",
    "x_3060right_tr, x_3060right_ts = [x[0], x[1]]\n",
    "\n",
    "x_tr_temp = [x_3060right_tr[i] for i in range(len(y_tr2)) if y_tr2[i] in list(range(11))]\n",
    "x_ts_temp = [x_3060right_ts[i] for i in range(len(y_ts2)) if y_ts2[i] in list(range(11))]\n",
    "\n",
    "x_3060right_tr = np.array(x_tr_temp)\n",
    "x_3060right_ts = np.array(x_ts_temp)\n",
    "\n",
    "\n",
    "y_tr2 = to_categorical(np.array(y_tr_temp)-1)\n",
    "y_ts2 = to_categorical(np.array(y_ts_temp)-1)\n",
    "\n",
    "print(x_3060right_tr.shape)\n",
    "print(x_3060right_ts.shape)"
   ]
  },
  {
   "cell_type": "code",
   "execution_count": 9,
   "metadata": {},
   "outputs": [
    {
     "name": "stdout",
     "output_type": "stream",
     "text": [
      "(404, 128, 128, 24)\n",
      "(98, 128, 128, 24)\n",
      "(404, 128, 128, 24)\n",
      "(98, 128, 128, 24)\n",
      "(404, 128, 128, 24)\n",
      "(98, 128, 128, 24)\n",
      "(404, 128, 128, 24)\n",
      "(98, 128, 128, 24)\n"
     ]
    }
   ],
   "source": [
    "subj = '0 30 left 8ch'\n",
    "filename = 'ASL_Datasets/'+subj+'_spec_128_final.pkl'\n",
    "with open(filename, 'rb') as input:\n",
    "    x = pickle.load(input)\n",
    "x_030left_tr, x_030left_ts, y_tr2, y_ts2 = [x[0], x[1], x[2], x[3]]\n",
    "# y_tr2, y_ts2 = [to_categorical(x[2]-1), to_categorical(x[3]-1)]\n",
    "\n",
    "y_tr_temp = [y_tr2[i] for i in range(len(y_tr2)) if y_tr2[i] in list(range(11))]\n",
    "y_ts_temp = [y_ts2[i] for i in range(len(y_ts2)) if y_ts2[i] in list(range(11))]\n",
    "x_tr_temp = [x_030left_tr[i] for i in range(len(y_tr2)) if y_tr2[i] in list(range(11))]\n",
    "x_ts_temp = [x_030left_ts[i] for i in range(len(y_ts2)) if y_ts2[i] in list(range(11))]\n",
    "\n",
    "x_030left_tr = np.array(x_tr_temp)\n",
    "x_030left_ts = np.array(x_ts_temp)\n",
    "\n",
    "print(x_030left_tr.shape)\n",
    "print(x_030left_ts.shape)\n",
    "\n",
    "subj = '0 30 right 8ch'\n",
    "filename = 'ASL_Datasets/'+subj+'_spec_128_final.pkl'\n",
    "with open(filename, 'rb') as input:\n",
    "    x = pickle.load(input)\n",
    "x_030right_tr, x_030right_ts = [x[0], x[1]]\n",
    "\n",
    "x_tr_temp = [x_030right_tr[i] for i in range(len(y_tr2)) if y_tr2[i] in list(range(11))]\n",
    "x_ts_temp = [x_030right_ts[i] for i in range(len(y_ts2)) if y_ts2[i] in list(range(11))]\n",
    "\n",
    "x_030right_tr = np.array(x_tr_temp)\n",
    "x_030right_ts = np.array(x_ts_temp)\n",
    "\n",
    "print(x_030right_tr.shape)\n",
    "print(x_030right_ts.shape)\n",
    "\n",
    "subj = '60 90 left 8ch'\n",
    "filename = 'ASL_Datasets/'+subj+'_spec_128_final.pkl'\n",
    "with open(filename, 'rb') as input:\n",
    "    x = pickle.load(input)\n",
    "x_6090left_tr, x_6090left_ts = [x[0], x[1]]\n",
    "\n",
    "x_tr_temp = [x_6090left_tr[i] for i in range(len(y_tr2)) if y_tr2[i] in list(range(11))]\n",
    "x_ts_temp = [x_6090left_ts[i] for i in range(len(y_ts2)) if y_ts2[i] in list(range(11))]\n",
    "\n",
    "x_6090left_tr = np.array(x_tr_temp)\n",
    "x_6090left_ts = np.array(x_ts_temp)\n",
    "\n",
    "print(x_6090left_tr.shape)\n",
    "print(x_6090left_ts.shape)\n",
    "\n",
    "subj = '60 90 right 8ch'\n",
    "filename = 'ASL_Datasets/'+subj+'_spec_128_final.pkl'\n",
    "with open(filename, 'rb') as input:\n",
    "    x = pickle.load(input)\n",
    "x_6090right_tr, x_6090right_ts = [x[0], x[1]]\n",
    "\n",
    "x_tr_temp = [x_6090right_tr[i] for i in range(len(y_tr2)) if y_tr2[i] in list(range(11))]\n",
    "x_ts_temp = [x_6090right_ts[i] for i in range(len(y_ts2)) if y_ts2[i] in list(range(11))]\n",
    "\n",
    "x_6090right_tr = np.array(x_tr_temp)\n",
    "x_6090right_ts = np.array(x_ts_temp)\n",
    "\n",
    "y_tr2 = to_categorical(np.array(y_tr_temp)-1)\n",
    "y_ts2 = to_categorical(np.array(y_ts_temp)-1)\n",
    "\n",
    "print(x_6090right_tr.shape)\n",
    "print(x_6090right_ts.shape)"
   ]
  },
  {
   "cell_type": "code",
   "execution_count": 10,
   "metadata": {},
   "outputs": [
    {
     "name": "stdout",
     "output_type": "stream",
     "text": [
      "num_class: 10\n"
     ]
    }
   ],
   "source": [
    "num_class = y_tr.shape[-1]\n",
    "print('num_class:', num_class)\n",
    "batch_size = 128//4\n",
    "epochs = 200\n",
    "early_stopping = keras.callbacks.EarlyStopping(monitor=\"val_accuracy\", patience=20, restore_best_weights=True)"
   ]
  },
  {
   "cell_type": "code",
   "execution_count": 11,
   "metadata": {},
   "outputs": [],
   "source": [
    "def orig_model():\n",
    "    inputlayer1 = Input(shape = (x_orig_tr.shape[1],x_orig_tr.shape[2],x_orig_tr.shape[3]))\n",
    "    x = Conv2D(32, kernel_size=(3, 3), padding='same', activation='relu')(inputlayer1)\n",
    "    x = MaxPooling2D(pool_size=(2,2))(x)\n",
    "    x = Conv2D(32, kernel_size=(3, 3), padding='same', activation='relu')(x)\n",
    "    x = MaxPooling2D(pool_size=(2,2))(x)\n",
    "    x = Conv2D(64, kernel_size=(3, 3), padding='same', activation='relu')(x)\n",
    "    x = MaxPooling2D(pool_size=(2,2))(x)\n",
    "    x = Conv2D(128, kernel_size=(3, 3), padding='same', activation='relu')(x)\n",
    "    x = MaxPooling2D(pool_size=(2,2))(x)\n",
    "    x = Flatten()(x)\n",
    "    out1 = Dense(num_class,activation='softmax')(x)\n",
    "    model = keras.Model(inputs = [inputlayer1], outputs = [out1])#, out2, out3])\n",
    "    opt = Adam(lr=1e-3, decay=1e-3 / 200)\n",
    "    model.compile(loss = 'categorical_crossentropy', optimizer=opt,metrics = ['accuracy'])\n",
    "    return model "
   ]
  },
  {
   "cell_type": "code",
   "execution_count": 12,
   "metadata": {},
   "outputs": [],
   "source": [
    "def multi_model():\n",
    "    inputlayer1 = Input(shape = (x_060right_tr.shape[1],x_060right_tr.shape[2],x_060right_tr.shape[3]))\n",
    "    x = Conv2D(32, kernel_size=(3, 3), padding='same', activation='relu')(inputlayer1)\n",
    "    x = MaxPooling2D(pool_size=(2,2))(x)\n",
    "    x = Conv2D(32, kernel_size=(3, 3), padding='same', activation='relu')(x)\n",
    "    x = MaxPooling2D(pool_size=(2,2))(x)\n",
    "    x = Conv2D(64, kernel_size=(3, 3), padding='same', activation='relu')(x)\n",
    "    x = MaxPooling2D(pool_size=(2,2))(x)\n",
    "    x = Conv2D(128, kernel_size=(3, 3), padding='same', activation='relu')(x)\n",
    "    x = MaxPooling2D(pool_size=(2,2))(x)\n",
    "    x = Flatten()(x)\n",
    "    \n",
    "    inputlayer2 = Input(shape = (x_060right_tr.shape[1],x_060right_tr.shape[2],x_060right_tr.shape[3]))\n",
    "    y = Conv2D(32, kernel_size=(3, 3), padding='same', activation='relu')(inputlayer2)\n",
    "    y = MaxPooling2D(pool_size=(2,2))(y)\n",
    "    y = Conv2D(32, kernel_size=(3, 3), padding='same', activation='relu')(y)\n",
    "    y = MaxPooling2D(pool_size=(2,2))(y)\n",
    "    y = Conv2D(64, kernel_size=(3, 3), padding='same', activation='relu')(y)\n",
    "    y = MaxPooling2D(pool_size=(2,2))(y)\n",
    "    y = Conv2D(128, kernel_size=(3, 3), padding='same', activation='relu')(y)\n",
    "    y = MaxPooling2D(pool_size=(2,2))(y)\n",
    "    y = Flatten()(y)\n",
    "    z = concatenate([x,y],-1)\n",
    "    \n",
    "    out1 = Dense(num_class,activation='softmax')(z)\n",
    "    model = keras.Model(inputs = [inputlayer1,inputlayer2], outputs = [out1])#, out2, out3])\n",
    "    opt = Adam(lr=1e-3, decay=1e-3 / 200)\n",
    "    model.compile(loss = 'categorical_crossentropy', optimizer=opt,metrics = ['accuracy'])\n",
    "    return model "
   ]
  },
  {
   "cell_type": "code",
   "execution_count": 13,
   "metadata": {},
   "outputs": [],
   "source": [
    "def shared_multi_model():\n",
    "    \n",
    "    inputlayer = Input(shape = (x_060right_tr.shape[1],x_060right_tr.shape[2],x_060right_tr.shape[3]))\n",
    "    \n",
    "    x = Conv2D(32, kernel_size=(3, 3), padding='same', activation='relu')(inputlayer)\n",
    "    x = MaxPooling2D(pool_size=(2,2))(x)\n",
    "    x = Conv2D(32, kernel_size=(3, 3), padding='same', activation='relu')(x)\n",
    "    x = MaxPooling2D(pool_size=(2,2))(x)\n",
    "    x = Conv2D(64, kernel_size=(3, 3), padding='same', activation='relu')(x)\n",
    "    x = MaxPooling2D(pool_size=(2,2))(x)\n",
    "    x = Conv2D(128, kernel_size=(3, 3), padding='same', activation='relu')(x)\n",
    "    x = MaxPooling2D(pool_size=(2,2))(x)\n",
    "    x = Flatten()(x)\n",
    "    shared_cnn = keras.Model(inputs = [inputlayer], outputs = [x])#, out2, out3])\n",
    "    \n",
    "    inputlayer1 = Input(shape = (x_060right_tr.shape[1],x_060right_tr.shape[2],x_060right_tr.shape[3]))\n",
    "    inputlayer2 = Input(shape = (x_060right_tr.shape[1],x_060right_tr.shape[2],x_060right_tr.shape[3]))\n",
    "    \n",
    "    encoded1 = shared_cnn(inputlayer1)\n",
    "    encoded2 = shared_cnn(inputlayer2)\n",
    "    \n",
    "    z = concatenate([encoded1,encoded2],-1)\n",
    "    out1 = Dense(num_class,activation='softmax')(z)\n",
    "    \n",
    "    model = keras.Model(inputs = [inputlayer1,inputlayer2], outputs = [out1])#, out2, out3])\n",
    "    opt = Adam(lr=1e-3, decay=1e-3 / 200)\n",
    "    model.compile(loss = 'categorical_crossentropy', optimizer=opt,metrics = ['accuracy'])\n",
    "    return model "
   ]
  },
  {
   "cell_type": "markdown",
   "metadata": {},
   "source": [
    "## Orig"
   ]
  },
  {
   "cell_type": "code",
   "execution_count": 14,
   "metadata": {},
   "outputs": [
    {
     "name": "stdout",
     "output_type": "stream",
     "text": [
      "Acc:  0.9285714030265808 , elapsed time:  0.297484290599823  minutes.\n",
      "Acc:  0.918367326259613 , elapsed time:  0.30315115054448444  minutes.\n",
      "Acc:  0.918367326259613 , elapsed time:  0.2934557994206746  minutes.\n",
      "Acc:  0.9591836929321289 , elapsed time:  0.273400092124939  minutes.\n",
      "Acc:  0.9387755393981934 , elapsed time:  0.26253575483957925  minutes.\n",
      "Mean:  0.9326530575752259 , STD:  0.015272089172158197\n"
     ]
    }
   ],
   "source": [
    "accs = []\n",
    "best_acc = 0\n",
    "subj = 'single'\n",
    "for i in range(5):\n",
    "    t = time.time()\n",
    "    model = orig_model()\n",
    "    history = model.fit(\n",
    "        x_orig_tr,y_tr,\n",
    "        validation_data=(x_orig_ts,y_ts),\n",
    "        batch_size = batch_size,\n",
    "        epochs=epochs,\n",
    "        callbacks=[early_stopping],\n",
    "        verbose = 0\n",
    "    )\n",
    "    loss, acc = model.evaluate(x_orig_ts,y_ts,verbose=0)\n",
    "    print('Acc: ',acc, ', elapsed time: ',(time.time()-t)/60, ' minutes.')\n",
    "    accs.append(acc)\n",
    "    if acc > best_acc:\n",
    "        best_acc = acc\n",
    "        fname = subj\n",
    "        MODEL_FILE = 'asl_models/' + fname + '.json' # save path\n",
    "        WEIGHT_FILE = 'asl_models/' + fname + '.h5' # save path\n",
    "        model_json = model.to_json()\n",
    "        with open(MODEL_FILE, \"w\") as json_file:\n",
    "            json_file.write(model_json)\n",
    "        model.save_weights(WEIGHT_FILE)\n",
    "print('Mean: ',np.mean(accs),', STD: ',np.std(accs))"
   ]
  },
  {
   "cell_type": "code",
   "execution_count": 36,
   "metadata": {},
   "outputs": [],
   "source": [
    "# # save model\n",
    "# fname = 'orig md hand'\n",
    "# MODEL_FILE = '../models/' + fname + '.json' # save path\n",
    "# WEIGHT_FILE = '../models/' + fname + '.h5' # save path\n",
    "\n",
    "# model_json = model.to_json()\n",
    "# with open(MODEL_FILE, \"w\") as json_file:\n",
    "#     json_file.write(model_json)\n",
    "# model.save_weights(WEIGHT_FILE)"
   ]
  },
  {
   "cell_type": "code",
   "execution_count": 37,
   "metadata": {},
   "outputs": [],
   "source": [
    "# loss, acc = model.evaluate(x_orig_ts,y_ts_hand)"
   ]
  },
  {
   "cell_type": "markdown",
   "metadata": {},
   "source": [
    "## 0 to 60"
   ]
  },
  {
   "cell_type": "code",
   "execution_count": 59,
   "metadata": {},
   "outputs": [
    {
     "name": "stdout",
     "output_type": "stream",
     "text": [
      "Acc:  0.9489796161651611 , elapsed time:  0.3429799755414327  minutes.\n",
      "Acc:  0.9795918464660645 , elapsed time:  0.363760503133138  minutes.\n",
      "Acc:  0.9387755393981934 , elapsed time:  0.4068618615468343  minutes.\n",
      "Acc:  0.9387755393981934 , elapsed time:  0.34062380393346153  minutes.\n",
      "Acc:  0.9489796161651611 , elapsed time:  0.380445929368337  minutes.\n",
      "Mean:  0.9510204315185546 , STD:  0.014996868825155817\n"
     ]
    }
   ],
   "source": [
    "accs = []\n",
    "best_acc = 0\n",
    "for i in range(5):\n",
    "    t = time.time()\n",
    "    model = multi_model()\n",
    "    history = model.fit(\n",
    "        [x_060right_tr,x_060left_tr],y_tr2,\n",
    "        validation_data=([x_060right_ts,x_060left_ts],y_ts2),\n",
    "        batch_size = batch_size,\n",
    "        epochs=epochs,\n",
    "        callbacks=[early_stopping],\n",
    "        verbose = 0\n",
    "    )\n",
    "    loss, acc = model.evaluate([x_060right_ts,x_060left_ts],y_ts2,verbose=0)\n",
    "    print('Acc: ',acc, ', elapsed time: ',(time.time()-t)/60, ' minutes.')\n",
    "    accs.append(acc)\n",
    "    if acc > best_acc:\n",
    "        best_acc = acc\n",
    "        fname = '0to60 8ch'\n",
    "        MODEL_FILE = 'asl_models/' + fname + '.json' # save path\n",
    "        WEIGHT_FILE = 'asl_models/' + fname + '.h5' # save path\n",
    "        model_json = model.to_json()\n",
    "        with open(MODEL_FILE, \"w\") as json_file:\n",
    "            json_file.write(model_json)\n",
    "        model.save_weights(WEIGHT_FILE)\n",
    "print('Mean: ',np.mean(accs),', STD: ',np.std(accs))"
   ]
  },
  {
   "cell_type": "markdown",
   "metadata": {},
   "source": [
    "## 30 to 60"
   ]
  },
  {
   "cell_type": "code",
   "execution_count": 60,
   "metadata": {},
   "outputs": [
    {
     "name": "stdout",
     "output_type": "stream",
     "text": [
      "Acc:  0.9591836929321289 , elapsed time:  0.3501011967658997  minutes.\n",
      "Acc:  0.9285714030265808 , elapsed time:  0.3472742279370626  minutes.\n",
      "Acc:  0.9285714030265808 , elapsed time:  0.34618297417958577  minutes.\n",
      "Acc:  0.9387755393981934 , elapsed time:  0.358697505791982  minutes.\n",
      "Acc:  0.9387755393981934 , elapsed time:  0.3597280979156494  minutes.\n",
      "Mean:  0.9387755155563354 , STD:  0.011178027812121207\n"
     ]
    }
   ],
   "source": [
    "accs = []\n",
    "best_acc = 0\n",
    "for i in range(5):\n",
    "    t = time.time()\n",
    "    model = multi_model()\n",
    "    history = model.fit(\n",
    "        [x_3060right_tr,x_3060left_tr],y_tr2,\n",
    "        validation_data=([x_3060right_ts,x_3060left_ts],y_ts2),\n",
    "        batch_size = batch_size,\n",
    "        epochs=epochs,\n",
    "        callbacks=[early_stopping],\n",
    "        verbose = 0\n",
    "    )\n",
    "    loss, acc = model.evaluate([x_3060right_ts,x_3060left_ts],y_ts2,verbose=0)\n",
    "    print('Acc: ',acc, ', elapsed time: ',(time.time()-t)/60, ' minutes.')\n",
    "    accs.append(acc)\n",
    "    if acc > best_acc:\n",
    "        best_acc = acc\n",
    "        fname = '30to60 8ch'\n",
    "        MODEL_FILE = 'asl_models/' + fname + '.json' # save path\n",
    "        WEIGHT_FILE = 'asl_models/' + fname + '.h5' # save path\n",
    "        model_json = model.to_json()\n",
    "        with open(MODEL_FILE, \"w\") as json_file:\n",
    "            json_file.write(model_json)\n",
    "        model.save_weights(WEIGHT_FILE)\n",
    "print('Mean: ',np.mean(accs),', STD: ',np.std(accs))"
   ]
  },
  {
   "cell_type": "markdown",
   "metadata": {},
   "source": [
    "# 0 to 30"
   ]
  },
  {
   "cell_type": "code",
   "execution_count": 62,
   "metadata": {},
   "outputs": [
    {
     "name": "stdout",
     "output_type": "stream",
     "text": [
      "Acc:  0.9693877696990967 , elapsed time:  0.405400288105011  minutes.\n",
      "Acc:  0.9693877696990967 , elapsed time:  0.3680272102355957  minutes.\n",
      "Acc:  0.9795918464660645 , elapsed time:  0.42656469345092773  minutes.\n",
      "Acc:  0.9591836929321289 , elapsed time:  0.32704281409581504  minutes.\n",
      "Acc:  0.9693877696990967 , elapsed time:  0.33033942778905234  minutes.\n",
      "Mean:  0.9693877696990967 , STD:  0.006453624800565074\n"
     ]
    }
   ],
   "source": [
    "accs = []\n",
    "best_acc = 0\n",
    "for i in range(5):\n",
    "    t = time.time()\n",
    "    model = multi_model()\n",
    "    history = model.fit(\n",
    "        [x_030right_tr,x_030left_tr],y_tr2,\n",
    "        validation_data=([x_030right_ts,x_030left_ts],y_ts2),\n",
    "        batch_size = batch_size,\n",
    "        epochs=epochs,\n",
    "        callbacks=[early_stopping],\n",
    "        verbose = 0\n",
    "    )\n",
    "    loss, acc = model.evaluate([x_030right_ts,x_030left_ts],y_ts2,verbose=0)\n",
    "    print('Acc: ',acc, ', elapsed time: ',(time.time()-t)/60, ' minutes.')\n",
    "    accs.append(acc)\n",
    "    if acc > best_acc:\n",
    "        best_acc = acc\n",
    "        fname = '0to30 8ch'\n",
    "        MODEL_FILE = 'asl_models/' + fname + '.json' # save path\n",
    "        WEIGHT_FILE = 'asl_models/' + fname + '.h5' # save path\n",
    "        model_json = model.to_json()\n",
    "        with open(MODEL_FILE, \"w\") as json_file:\n",
    "            json_file.write(model_json)\n",
    "        model.save_weights(WEIGHT_FILE)\n",
    "print('Mean: ',np.mean(accs),', STD: ',np.std(accs))"
   ]
  },
  {
   "cell_type": "markdown",
   "metadata": {},
   "source": [
    "# 60 to 90"
   ]
  },
  {
   "cell_type": "code",
   "execution_count": 63,
   "metadata": {},
   "outputs": [
    {
     "name": "stdout",
     "output_type": "stream",
     "text": [
      "Acc:  0.9489796161651611 , elapsed time:  0.3761320432027181  minutes.\n",
      "Acc:  0.9081632494926453 , elapsed time:  0.35719022353490193  minutes.\n",
      "Acc:  0.9591836929321289 , elapsed time:  0.3807805816332499  minutes.\n",
      "Acc:  0.918367326259613 , elapsed time:  0.3963431159655253  minutes.\n",
      "Acc:  0.9285714030265808 , elapsed time:  0.3451430082321167  minutes.\n",
      "Mean:  0.9326530575752259 , STD:  0.01892577000192874\n"
     ]
    }
   ],
   "source": [
    "accs = []\n",
    "best_acc = 0\n",
    "for i in range(5):\n",
    "    t = time.time()\n",
    "    model = multi_model()\n",
    "    history = model.fit(\n",
    "        [x_6090right_tr,x_6090left_tr],y_tr2,\n",
    "        validation_data=([x_6090right_ts,x_6090left_ts],y_ts2),\n",
    "        batch_size = batch_size,\n",
    "        epochs=epochs,\n",
    "        callbacks=[early_stopping],\n",
    "        verbose = 0\n",
    "    )\n",
    "    loss, acc = model.evaluate([x_6090right_ts,x_6090left_ts],y_ts2,verbose=0)\n",
    "    print('Acc: ',acc, ', elapsed time: ',(time.time()-t)/60, ' minutes.')\n",
    "    accs.append(acc)\n",
    "    if acc > best_acc:\n",
    "        best_acc = acc\n",
    "        fname = '60to90 8ch'\n",
    "        MODEL_FILE = 'asl_models/' + fname + '.json' # save path\n",
    "        WEIGHT_FILE = 'asl_models/' + fname + '.h5' # save path\n",
    "        model_json = model.to_json()\n",
    "        with open(MODEL_FILE, \"w\") as json_file:\n",
    "            json_file.write(model_json)\n",
    "        model.save_weights(WEIGHT_FILE)\n",
    "print('Mean: ',np.mean(accs),', STD: ',np.std(accs))"
   ]
  },
  {
   "cell_type": "markdown",
   "metadata": {},
   "source": [
    "# 0 to 30 shared"
   ]
  },
  {
   "cell_type": "code",
   "execution_count": 64,
   "metadata": {},
   "outputs": [
    {
     "name": "stdout",
     "output_type": "stream",
     "text": [
      "Acc:  0.9693877696990967 , elapsed time:  0.3602610190709432  minutes.\n",
      "Acc:  0.9795918464660645 , elapsed time:  0.37242302894592283  minutes.\n",
      "Acc:  0.9591836929321289 , elapsed time:  0.33291925191879274  minutes.\n",
      "Acc:  0.9591836929321289 , elapsed time:  0.3446690877278646  minutes.\n",
      "Acc:  0.9591836929321289 , elapsed time:  0.33764595190684  minutes.\n",
      "Mean:  0.9653061389923095 , STD:  0.008163261413574218\n"
     ]
    }
   ],
   "source": [
    "accs = []\n",
    "best_acc = 0\n",
    "for i in range(5):\n",
    "    t = time.time()\n",
    "    model = shared_multi_model()\n",
    "    history = model.fit(\n",
    "        [x_030right_tr,x_030left_tr],y_tr2,\n",
    "        validation_data=([x_030right_ts,x_030left_ts],y_ts2),\n",
    "        batch_size = batch_size,\n",
    "        epochs=epochs,\n",
    "        callbacks=[early_stopping],\n",
    "        verbose = 0\n",
    "    )\n",
    "    loss, acc = model.evaluate([x_030right_ts,x_030left_ts],y_ts2,verbose=0)\n",
    "    print('Acc: ',acc, ', elapsed time: ',(time.time()-t)/60, ' minutes.')\n",
    "    accs.append(acc)\n",
    "    if acc > best_acc:\n",
    "        best_acc = acc\n",
    "        fname = '0to30 8ch shared'\n",
    "        MODEL_FILE = 'asl_models/' + fname + '.json' # save path\n",
    "        WEIGHT_FILE = 'asl_models/' + fname + '.h5' # save path\n",
    "        model_json = model.to_json()\n",
    "        with open(MODEL_FILE, \"w\") as json_file:\n",
    "            json_file.write(model_json)\n",
    "        model.save_weights(WEIGHT_FILE)\n",
    "print('Mean: ',np.mean(accs),', STD: ',np.std(accs))"
   ]
  },
  {
   "cell_type": "markdown",
   "metadata": {},
   "source": [
    "# 60 to 90 shared"
   ]
  },
  {
   "cell_type": "code",
   "execution_count": 65,
   "metadata": {
    "scrolled": true
   },
   "outputs": [
    {
     "name": "stdout",
     "output_type": "stream",
     "text": [
      "Acc:  0.9387755393981934 , elapsed time:  0.5151597460110983  minutes.\n",
      "Acc:  0.9489796161651611 , elapsed time:  0.34743280013402306  minutes.\n",
      "Acc:  0.8979591727256775 , elapsed time:  0.33488282362620037  minutes.\n",
      "Acc:  0.9387755393981934 , elapsed time:  0.36220359404881797  minutes.\n",
      "Acc:  0.9285714030265808 , elapsed time:  0.39311995506286623  minutes.\n",
      "Mean:  0.9306122541427613 , STD:  0.017555781038131706\n"
     ]
    }
   ],
   "source": [
    "accs = []\n",
    "best_acc = 0\n",
    "for i in range(5):\n",
    "    t = time.time()\n",
    "    model = shared_multi_model()\n",
    "    history = model.fit(\n",
    "        [x_6090right_tr,x_6090left_tr],y_tr2,\n",
    "        validation_data=([x_6090right_ts,x_6090left_ts],y_ts2),\n",
    "        batch_size = batch_size,\n",
    "        epochs=epochs,\n",
    "        callbacks=[early_stopping],\n",
    "        verbose = 0\n",
    "    )\n",
    "    loss, acc = model.evaluate([x_6090right_ts,x_6090left_ts],y_ts2,verbose=0)\n",
    "    print('Acc: ',acc, ', elapsed time: ',(time.time()-t)/60, ' minutes.')\n",
    "    accs.append(acc)\n",
    "    if acc > best_acc:\n",
    "        best_acc = acc\n",
    "        fname = '60to90 8ch shared'\n",
    "        MODEL_FILE = 'asl_models/' + fname + '.json' # save path\n",
    "        WEIGHT_FILE = 'asl_models/' + fname + '.h5' # save path\n",
    "        model_json = model.to_json()\n",
    "        with open(MODEL_FILE, \"w\") as json_file:\n",
    "            json_file.write(model_json)\n",
    "        model.save_weights(WEIGHT_FILE)\n",
    "print('Mean: ',np.mean(accs),', STD: ',np.std(accs))"
   ]
  },
  {
   "cell_type": "markdown",
   "metadata": {},
   "source": [
    "## 0 to 60 shared"
   ]
  },
  {
   "cell_type": "code",
   "execution_count": 66,
   "metadata": {},
   "outputs": [
    {
     "name": "stdout",
     "output_type": "stream",
     "text": [
      "Acc:  0.9591836929321289 , elapsed time:  0.3338254968325297  minutes.\n",
      "Acc:  0.9387755393981934 , elapsed time:  0.3224052667617798  minutes.\n",
      "Acc:  0.9795918464660645 , elapsed time:  0.386684517065684  minutes.\n",
      "Acc:  0.9693877696990967 , elapsed time:  0.41019407510757444  minutes.\n",
      "Acc:  0.9591836929321289 , elapsed time:  0.4328919609387716  minutes.\n",
      "Mean:  0.9612245082855224 , STD:  0.01353723758720596\n"
     ]
    }
   ],
   "source": [
    "accs = []\n",
    "best_acc = 0\n",
    "for i in range(5):\n",
    "    t = time.time()\n",
    "    model = shared_multi_model()\n",
    "    history = model.fit(\n",
    "        [x_060right_tr,x_060left_tr],y_tr2,\n",
    "        validation_data=([x_060right_ts,x_060left_ts],y_ts2),\n",
    "        batch_size = batch_size,\n",
    "        epochs=epochs,\n",
    "        callbacks=[early_stopping],\n",
    "        verbose = 0\n",
    "    )\n",
    "    loss, acc = model.evaluate([x_060right_ts,x_060left_ts],y_ts2,verbose=0)\n",
    "    print('Acc: ',acc, ', elapsed time: ',(time.time()-t)/60, ' minutes.')\n",
    "    accs.append(acc)\n",
    "    if acc > best_acc:\n",
    "        best_acc = acc\n",
    "        fname = '0to60 8ch shared'\n",
    "        MODEL_FILE = 'asl_models/' + fname + '.json' # save path\n",
    "        WEIGHT_FILE = 'asl_models/' + fname + '.h5' # save path\n",
    "        model_json = model.to_json()\n",
    "        with open(MODEL_FILE, \"w\") as json_file:\n",
    "            json_file.write(model_json)\n",
    "        model.save_weights(WEIGHT_FILE)\n",
    "print('Mean: ',np.mean(accs),', STD: ',np.std(accs))"
   ]
  },
  {
   "cell_type": "markdown",
   "metadata": {},
   "source": [
    "## 30 to 60 shared"
   ]
  },
  {
   "cell_type": "code",
   "execution_count": 67,
   "metadata": {
    "scrolled": true
   },
   "outputs": [
    {
     "name": "stdout",
     "output_type": "stream",
     "text": [
      "Acc:  0.9489796161651611 , elapsed time:  0.3582132577896118  minutes.\n",
      "Acc:  0.9285714030265808 , elapsed time:  0.32295186122258507  minutes.\n",
      "Acc:  0.9489796161651611 , elapsed time:  0.35559664567311605  minutes.\n",
      "Acc:  0.9387755393981934 , elapsed time:  0.3679243008295695  minutes.\n",
      "Acc:  0.9387755393981934 , elapsed time:  0.3291950901349386  minutes.\n",
      "Mean:  0.940816342830658 , STD:  0.007636050958093623\n"
     ]
    }
   ],
   "source": [
    "accs = []\n",
    "best_acc = 0\n",
    "for i in range(5):\n",
    "    t = time.time()\n",
    "    model = shared_multi_model()\n",
    "    history = model.fit(\n",
    "        [x_3060right_tr,x_3060left_tr],y_tr2,\n",
    "        validation_data=([x_3060right_ts,x_3060left_ts],y_ts2),\n",
    "        batch_size = batch_size,\n",
    "        epochs=epochs,\n",
    "        callbacks=[early_stopping],\n",
    "        verbose = 0\n",
    "    )\n",
    "    loss, acc = model.evaluate([x_3060right_ts,x_3060left_ts],y_ts2,verbose=0)\n",
    "    print('Acc: ',acc, ', elapsed time: ',(time.time()-t)/60, ' minutes.')\n",
    "    accs.append(acc)\n",
    "    if acc > best_acc:\n",
    "        best_acc = acc\n",
    "        fname = '30to60 8ch shared'\n",
    "        MODEL_FILE = 'asl_models/' + fname + '.json' # save path\n",
    "        WEIGHT_FILE = 'asl_models/' + fname + '.h5' # save path\n",
    "        model_json = model.to_json()\n",
    "        with open(MODEL_FILE, \"w\") as json_file:\n",
    "            json_file.write(model_json)\n",
    "        model.save_weights(WEIGHT_FILE)\n",
    "print('Mean: ',np.mean(accs),', STD: ',np.std(accs))"
   ]
  },
  {
   "cell_type": "markdown",
   "metadata": {},
   "source": [
    "# 10 degrees"
   ]
  },
  {
   "cell_type": "code",
   "execution_count": 70,
   "metadata": {},
   "outputs": [
    {
     "name": "stdout",
     "output_type": "stream",
     "text": [
      "Angle: 10 , Acc: 0.9285714030265808 , elapsed time: 0.3435011744499207  minutes.\n",
      "Angle: 10 , Acc: 0.9693877696990967 , elapsed time: 0.34849257866541544  minutes.\n",
      "Angle: 10 , Acc: 0.9693877696990967 , elapsed time: 0.4452437162399292  minutes.\n",
      "Angle: 10 , Acc: 0.9489796161651611 , elapsed time: 0.3809279123942057  minutes.\n",
      "Angle: 10 , Acc: 0.9489796161651611 , elapsed time: 0.35559791326522827  minutes.\n",
      "Angle: 10 , Mean: 0.10317460033628675 , STD: 0.2918218381760009\n",
      "Angle: 20 , Acc: 0.9489796161651611 , elapsed time: 0.3700751503308614  minutes.\n",
      "Angle: 20 , Acc: 0.9387755393981934 , elapsed time: 0.37328622738520306  minutes.\n",
      "Angle: 20 , Acc: 0.9489796161651611 , elapsed time: 0.48428276777267454  minutes.\n",
      "Angle: 20 , Acc: 0.9693877696990967 , elapsed time: 0.3647448539733887  minutes.\n",
      "Angle: 20 , Acc: 0.9591836929321289 , elapsed time: 0.350141437848409  minutes.\n",
      "Angle: 20 , Mean: 0.21201814545525444 , STD: 0.3967152512814854\n",
      "Angle: 30 , Acc: 0.9591836929321289 , elapsed time: 0.3451801339785258  minutes.\n",
      "Angle: 30 , Acc: 0.9387755393981934 , elapsed time: 0.3542957107226054  minutes.\n",
      "Angle: 30 , Acc: 0.9489796161651611 , elapsed time: 0.357796581586202  minutes.\n",
      "Angle: 30 , Acc: 0.9693877696990967 , elapsed time: 0.35639031330744425  minutes.\n",
      "Angle: 30 , Acc: 0.9489796161651611 , elapsed time: 0.37222232421239215  minutes.\n",
      "Angle: 30 , Mean: 0.3185941113366021 , STD: 0.45059434846666796\n",
      "Angle: 40 , Acc: 0.9693877696990967 , elapsed time: 0.3424996256828308  minutes.\n",
      "Angle: 40 , Acc: 0.9693877696990967 , elapsed time: 0.35450660387674965  minutes.\n",
      "Angle: 40 , Acc: 0.9693877696990967 , elapsed time: 0.3536194364229838  minutes.\n",
      "Angle: 40 , Acc: 0.9591836929321289 , elapsed time: 0.43586765925089516  minutes.\n",
      "Angle: 40 , Acc: 0.9387755393981934 , elapsed time: 0.3289915045102437  minutes.\n",
      "Angle: 40 , Mean: 0.4274376498328315 , STD: 0.47792310682283773\n",
      "Angle: 50 , Acc: 0.9693877696990967 , elapsed time: 0.4059566378593445  minutes.\n",
      "Angle: 50 , Acc: 0.9693877696990967 , elapsed time: 0.36565556526184084  minutes.\n",
      "Angle: 50 , Acc: 0.9591836929321289 , elapsed time: 0.4464094042778015  minutes.\n",
      "Angle: 50 , Acc: 0.9693877696990967 , elapsed time: 0.3726081887880961  minutes.\n",
      "Angle: 50 , Acc: 0.9693877696990967 , elapsed time: 0.3530510425567627  minutes.\n",
      "Angle: 50 , Mean: 0.5294784704844157 , STD: 0.47364345305969235\n",
      "Angle: 60 , Acc: 0.9387755393981934 , elapsed time: 0.33588066895802815  minutes.\n",
      "Angle: 60 , Acc: 0.9591836929321289 , elapsed time: 0.32596555550893147  minutes.\n",
      "Angle: 60 , Acc: 0.9693877696990967 , elapsed time: 0.6011623422304789  minutes.\n",
      "Angle: 60 , Acc: 0.9591836929321289 , elapsed time: 0.33369044462839764  minutes.\n",
      "Angle: 60 , Acc: 0.9591836929321289 , elapsed time: 0.36770402590433754  minutes.\n"
     ]
    },
    {
     "ename": "IndexError",
     "evalue": "index 5 is out of bounds for axis 0 with size 5",
     "output_type": "error",
     "traceback": [
      "\u001b[0;31m---------------------------------------------------------------------------\u001b[0m",
      "\u001b[0;31mIndexError\u001b[0m                                Traceback (most recent call last)",
      "\u001b[0;32m<ipython-input-70-2cf11f5d57a4>\u001b[0m in \u001b[0;36m<module>\u001b[0;34m\u001b[0m\n\u001b[1;32m     57\u001b[0m                 \u001b[0mjson_file\u001b[0m\u001b[0;34m.\u001b[0m\u001b[0mwrite\u001b[0m\u001b[0;34m(\u001b[0m\u001b[0mmodel_json\u001b[0m\u001b[0;34m)\u001b[0m\u001b[0;34m\u001b[0m\u001b[0;34m\u001b[0m\u001b[0m\n\u001b[1;32m     58\u001b[0m             \u001b[0mmodel\u001b[0m\u001b[0;34m.\u001b[0m\u001b[0msave_weights\u001b[0m\u001b[0;34m(\u001b[0m\u001b[0mWEIGHT_FILE\u001b[0m\u001b[0;34m)\u001b[0m\u001b[0;34m\u001b[0m\u001b[0;34m\u001b[0m\u001b[0m\n\u001b[0;32m---> 59\u001b[0;31m     \u001b[0mprint\u001b[0m\u001b[0;34m(\u001b[0m\u001b[0;34m'Angle:'\u001b[0m\u001b[0;34m,\u001b[0m\u001b[0mang\u001b[0m\u001b[0;34m,\u001b[0m\u001b[0;34m', Mean:'\u001b[0m\u001b[0;34m,\u001b[0m\u001b[0mnp\u001b[0m\u001b[0;34m.\u001b[0m\u001b[0mmean\u001b[0m\u001b[0;34m(\u001b[0m\u001b[0maccs\u001b[0m\u001b[0;34m[\u001b[0m\u001b[0mj\u001b[0m\u001b[0;34m]\u001b[0m\u001b[0;34m,\u001b[0m \u001b[0;36m0\u001b[0m\u001b[0;34m)\u001b[0m\u001b[0;34m,\u001b[0m\u001b[0;34m', STD:'\u001b[0m\u001b[0;34m,\u001b[0m\u001b[0mnp\u001b[0m\u001b[0;34m.\u001b[0m\u001b[0mstd\u001b[0m\u001b[0;34m(\u001b[0m\u001b[0maccs\u001b[0m\u001b[0;34m[\u001b[0m\u001b[0mj\u001b[0m\u001b[0;34m]\u001b[0m\u001b[0;34m)\u001b[0m\u001b[0;34m)\u001b[0m\u001b[0;34m\u001b[0m\u001b[0;34m\u001b[0m\u001b[0m\n\u001b[0m",
      "\u001b[0;31mIndexError\u001b[0m: index 5 is out of bounds for axis 0 with size 5"
     ]
    }
   ],
   "source": [
    "accs = np.zeros((5,9))\n",
    "best_acc = np.zeros((9))\n",
    "for j in range(9):\n",
    "    ang = str(j*10+10)\n",
    "    \n",
    "    subj = '10 degrees left/'+ang\n",
    "    filename = 'ASL_Datasets/'+subj+'_spec_128_final.pkl'\n",
    "    with open(filename, 'rb') as input:\n",
    "        x = pickle.load(input)\n",
    "    x_10left_tr, x_10left_ts, y_tr2, y_ts2 = [x[0], x[1], x[2], x[3]]\n",
    "    \n",
    "#     y_tr2, y_ts2 = [to_categorical(x[2]-1), to_categorical(x[3]-1)]\n",
    "    y_tr_temp = [y_tr2[i] for i in range(len(y_tr2)) if y_tr2[i] in list(range(11))]\n",
    "    y_ts_temp = [y_ts2[i] for i in range(len(y_ts2)) if y_ts2[i] in list(range(11))]\n",
    "    x_tr_temp = [x_10left_tr[i] for i in range(len(y_tr2)) if y_tr2[i] in list(range(11))]\n",
    "    x_ts_temp = [x_10left_ts[i] for i in range(len(y_ts2)) if y_ts2[i] in list(range(11))]\n",
    "\n",
    "    x_10left_tr = np.array(x_tr_temp)\n",
    "    x_10left_ts = np.array(x_ts_temp)\n",
    "\n",
    "    subj = '10 degrees right/'+ang\n",
    "    filename = 'ASL_Datasets/'+subj+'_spec_128_final.pkl'\n",
    "    with open(filename, 'rb') as input:\n",
    "        x = pickle.load(input)\n",
    "    x_10right_tr, x_10right_ts = [x[0], x[1]]\n",
    "    \n",
    "    x_tr_temp = [x_10right_tr[i] for i in range(len(y_tr2)) if y_tr2[i] in list(range(11))]\n",
    "    x_ts_temp = [x_10right_ts[i] for i in range(len(y_ts2)) if y_ts2[i] in list(range(11))]\n",
    "\n",
    "    x_10right_tr = np.array(x_tr_temp)\n",
    "    x_10right_ts = np.array(x_ts_temp)\n",
    "    \n",
    "    y_tr2 = to_categorical(np.array(y_tr_temp)-1)\n",
    "    y_ts2 = to_categorical(np.array(y_ts_temp)-1)\n",
    "    \n",
    "    for i in range(5):\n",
    "        t = time.time()\n",
    "        model = shared_multi_model()\n",
    "        history = model.fit(\n",
    "            [x_10right_tr,x_10left_tr],y_tr2,\n",
    "            validation_data=([x_10right_ts,x_10left_ts],y_ts2),\n",
    "            batch_size = batch_size,\n",
    "            epochs=epochs,\n",
    "            callbacks=[early_stopping],\n",
    "            verbose = 0\n",
    "        )\n",
    "        loss, acc = model.evaluate([x_10right_ts,x_10left_ts],y_ts2,verbose=0)\n",
    "        print('Angle:',ang,', Acc:',acc, ', elapsed time:',(time.time()-t)/60, ' minutes.')\n",
    "        accs[i,j] = acc\n",
    "        if acc > best_acc[j]:\n",
    "            best_acc[j] = acc\n",
    "            fname = ang+' degree 8ch shared'\n",
    "            MODEL_FILE = 'asl_models/' + fname + '.json' # save path\n",
    "            WEIGHT_FILE = 'asl_models/' + fname + '.h5' # save path\n",
    "            model_json = model.to_json()\n",
    "            with open(MODEL_FILE, \"w\") as json_file:\n",
    "                json_file.write(model_json)\n",
    "            model.save_weights(WEIGHT_FILE)\n",
    "    print('Angle:',ang,', Mean:',np.mean(accs[j], 0),', STD:',np.std(accs[j]))"
   ]
  },
  {
   "cell_type": "code",
   "execution_count": null,
   "metadata": {},
   "outputs": [],
   "source": [
    "print('Means:',np.mean(accs,0))\n",
    "print('STDs:',np.std(accs,0))"
   ]
  },
  {
   "cell_type": "markdown",
   "metadata": {},
   "source": [
    "# Import and test"
   ]
  },
  {
   "cell_type": "code",
   "execution_count": 8,
   "metadata": {},
   "outputs": [],
   "source": [
    "def loadmodel(fname):\n",
    "    model_file = 'asl_models/' + fname + '.json'\n",
    "    w_file = 'asl_models/' + fname + '.h5'\n",
    "    json_file = open(model_file, 'r')\n",
    "    loaded_model_json = json_file.read()\n",
    "    json_file.close()\n",
    "    model_md = model_from_json(loaded_model_json)\n",
    "    model_md.load_weights(w_file)\n",
    "    return model_md"
   ]
  },
  {
   "cell_type": "code",
   "execution_count": 9,
   "metadata": {},
   "outputs": [],
   "source": [
    "mod_orig = loadmodel('orig md')\n",
    "mod_060 = loadmodel('0to60 shared md')\n",
    "mod_3060 = loadmodel('30to60 shared md')\n",
    "# mod_030 = loadmodel('0to30 8ch shared')\n",
    "mod_030 = loadmodel('0to30 8ch')"
   ]
  },
  {
   "cell_type": "code",
   "execution_count": 10,
   "metadata": {},
   "outputs": [],
   "source": [
    "# pred_orig = np.argmax(mod_orig.predict(x_orig_ts),-1)\n",
    "# pred_060 = np.argmax(mod_060.predict([x_060right_ts,x_060left_ts]),-1)\n",
    "# pred_3060 = np.argmax(mod_3060.predict([x_3060right_ts,x_3060left_ts]),-1)\n",
    "pred_030 = np.argmax(mod_030.predict([x_030right_ts,x_030left_ts]),-1)"
   ]
  },
  {
   "cell_type": "code",
   "execution_count": 15,
   "metadata": {},
   "outputs": [
    {
     "data": {
      "text/plain": [
       "<function matplotlib.pyplot.show(*args, **kw)>"
      ]
     },
     "execution_count": 15,
     "metadata": {},
     "output_type": "execute_result"
    },
    {
     "data": {
      "image/png": "[encoded data removed]",
      "text/plain": [
       "<Figure size 1080x720 with 2 Axes>"
      ]
     },
     "metadata": {
      "needs_background": "light"
     },
     "output_type": "display_data"
    }
   ],
   "source": [
    "##### import pandas as pd\n",
    "import seaborn as sn\n",
    "font = {'family' : 'normal', \n",
    "        'weight' : 'bold',\n",
    "        'size'   : 6}\n",
    "\n",
    "plt.rc('font', **font) \n",
    "plt.rc('xtick', labelsize=12)    # fontsize of the tick labels\n",
    "plt.rc('ytick', labelsize=12) \n",
    "Y_pred = pred_030\n",
    "Y_test_int = np.argmax(y_ts2,-1) \n",
    "data = {'y_Predicted': Y_pred,\n",
    "        'y_Actual':    Y_test_int\n",
    "        }\n",
    "\n",
    "df = pd.DataFrame(data, columns=['y_Actual','y_Predicted'])\n",
    "confusion_matrix = pd.crosstab(df['y_Actual'], df['y_Predicted'], normalize='index', rownames=['Actual'], \n",
    "                               colnames=['Predicted'], margins = False)\\\n",
    ".round(3)*100\n",
    "fig = plt.figure(dpi=180)\n",
    "sn.heatmap(confusion_matrix,annot=True, cmap=\"Blues\", fmt='g') # cbar_kws={'format': '%.0f%%'},\n",
    "b, t = plt.ylim()\n",
    "b += 0.5\n",
    "t -= 0.5\n",
    "plt.ylim(b,t)\n",
    "# plt.xlim(b,t)\n",
    "cap = plt.gcf()\n",
    "plt.savefig('results/final 0to30.png', dpi = 400)\n",
    "plt.show"
   ]
  },
  {
   "cell_type": "code",
   "execution_count": null,
   "metadata": {},
   "outputs": [],
   "source": []
  }
 ],
 "metadata": {
  "kernelspec": {
   "display_name": "Python 3",
   "language": "python",
   "name": "python3"
  },
  "language_info": {
   "codemirror_mode": {
    "name": "ipython",
    "version": 3
   },
   "file_extension": ".py",
   "mimetype": "text/x-python",
   "name": "python",
   "nbconvert_exporter": "python",
   "pygments_lexer": "ipython3",
   "version": "3.7.2"
  }
 },
 "nbformat": 4,
 "nbformat_minor": 2
}
